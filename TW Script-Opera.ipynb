{
 "cells": [
  {
   "cell_type": "code",
   "execution_count": 2,
   "metadata": {},
   "outputs": [],
   "source": [
    "from selenium import webdriver\n",
    "from selenium.webdriver.chrome import service\n",
    "import time\n",
    "from selenium import webdriver\n",
    "import Queue as Q\n",
    "import pandas as pd\n",
    "import numpy as np\n"
   ]
  },
  {
   "cell_type": "code",
   "execution_count": 4,
   "metadata": {},
   "outputs": [],
   "source": [
    "\n",
    "ops = {\"browserName\":\"opera\",\"chromeOptions\":{\"args\":[],\"extensions\":[],\"binary\":\"/usr/bin/opera\"}}\n",
    "\n",
    "driver = webdriver.Chrome('/home/rsk/Downloads/operadriver',desired_capabilities=ops)\n",
    "\n",
    "\n",
    "driver.get('https://en100.tribalwars.net/game.php?village=2502')\n",
    "\n",
    "uname = driver.find_element_by_name('username')\n",
    "uname.send_keys('rsk05')\n",
    "\n",
    "\n",
    "pword = driver.find_element_by_name('password')\n",
    "pword.send_keys('swaminathan')\n",
    "\n",
    "login= driver.find_element_by_class_name('btn-login')\n",
    "login.click()\n",
    "\n",
    "time.sleep(3)\n",
    "driver.get('https://www.tribalwars.net/en-dk/page/play/en99')"
   ]
  },
  {
   "cell_type": "code",
   "execution_count": 17,
   "metadata": {},
   "outputs": [],
   "source": [
    "for i in range(10):\n",
    "    driver.execute_script(\"window.open('');\")\n",
    "    driver.switch_to_window(driver.window_handles[-1])\n",
    "\n",
    "    driver.get('https://en99.tribalwars.net/game.php?village=36880&screen=place&mode=command')\n",
    "\n",
    "    unitInput = driver.find_element_by_name('axe').send_keys(1)\n",
    "    \n",
    "    coordsInput = driver.find_element_by_name('input').send_keys('602|637')\n",
    "    driver.find_element_by_name('attack').click()\n",
    "    "
   ]
  },
  {
   "cell_type": "code",
   "execution_count": null,
   "metadata": {},
   "outputs": [],
   "source": []
  },
  {
   "cell_type": "code",
   "execution_count": null,
   "metadata": {},
   "outputs": [],
   "source": []
  },
  {
   "cell_type": "code",
   "execution_count": 11,
   "metadata": {},
   "outputs": [
    {
     "data": {
      "text/plain": [
       "(179, 39)"
      ]
     },
     "execution_count": 11,
     "metadata": {},
     "output_type": "execute_result"
    }
   ],
   "source": [
    "import pyautogui\n",
    "\n",
    "pyautogui.position()"
   ]
  },
  {
   "cell_type": "code",
   "execution_count": 18,
   "metadata": {},
   "outputs": [],
   "source": [
    "pyautogui.moveTo(179,39)\n",
    "pyautogui.click()\n",
    "\n",
    "\n",
    "for i in range(10):\n",
    "    pyautogui.typewrite(['pgup'])\n",
    "    pyautogui.typewrite(['enter'])\n"
   ]
  },
  {
   "cell_type": "code",
   "execution_count": 16,
   "metadata": {},
   "outputs": [],
   "source": [
    "driver.switch_to_window(driver.window_handles[0])"
   ]
  },
  {
   "cell_type": "code",
   "execution_count": null,
   "metadata": {},
   "outputs": [],
   "source": []
  }
 ],
 "metadata": {
  "kernelspec": {
   "display_name": "Python 2",
   "language": "python",
   "name": "python2"
  },
  "language_info": {
   "codemirror_mode": {
    "name": "ipython",
    "version": 2
   },
   "file_extension": ".py",
   "mimetype": "text/x-python",
   "name": "python",
   "nbconvert_exporter": "python",
   "pygments_lexer": "ipython2",
   "version": "2.7.12"
  }
 },
 "nbformat": 4,
 "nbformat_minor": 2
}
