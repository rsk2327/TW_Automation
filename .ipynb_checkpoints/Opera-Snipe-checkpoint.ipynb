{
 "cells": [
  {
   "cell_type": "code",
   "execution_count": 28,
   "metadata": {},
   "outputs": [],
   "source": [
    "from selenium import webdriver\n",
    "from selenium.webdriver.chrome import service\n",
    "import time\n",
    "from selenium import webdriver\n",
    "import Queue as Q\n",
    "import pandas as pd\n",
    "import numpy as np\n",
    "import pyautogui\n",
    "import os\n",
    "import numpy as np\n",
    "\n",
    "from time import sleep\n",
    "\n",
    "username='rsk05'\n",
    "password='123412312'\n",
    "world=100\n",
    "driverLocation='/home/rsk/Downloads/chromedriver'\n",
    "\n"
   ]
  },
  {
   "cell_type": "code",
   "execution_count": 29,
   "metadata": {},
   "outputs": [],
   "source": [
    "#Game login\n",
    "\n",
    "ops = {\"browserName\":\"opera\",\"chromeOptions\":{\"args\":[],\"extensions\":[],\"binary\":\"/usr/bin/opera\"}}\n",
    "\n",
    "driver = webdriver.Chrome('/home/rsk/Downloads/operadriver',desired_capabilities=ops)\n",
    "\n",
    "\n",
    "driver.get('https://en100.tribalwars.net/game.php?')\n",
    "\n",
    "uname = driver.find_element_by_name('username')\n",
    "uname.send_keys(username)\n",
    "\n",
    "\n",
    "pword = driver.find_element_by_name('password')\n",
    "pword.send_keys(password)\n",
    "\n",
    "login= driver.find_element_by_class_name('btn-login')\n",
    "login.click()\n",
    "\n",
    "time.sleep(1)\n",
    "driver.get('https://www.tribalwars.net/en-dk/page/play/en100')"
   ]
  },
  {
   "cell_type": "code",
   "execution_count": 5,
   "metadata": {},
   "outputs": [],
   "source": [
    "def enterUnits(units):\n",
    "    \n",
    "    for unitType in units:\n",
    "    \n",
    "        availUnits = int(driver.find_element_by_id('units_entry_all_'+unitType).text[1:-1])\n",
    "        \n",
    "        #check if required units are available\n",
    "        if availUnits < units[unitType]:\n",
    "            print(\"Insufficient troops. Attack to ({}|{}) not sent\".format(coords[0],coords[1]))\n",
    "            return(0)    \n",
    "        \n",
    "        unitInput = driver.find_element_by_name(unitType)\n",
    "        unitInput.send_keys(units[unitType])\n",
    "    "
   ]
  },
  {
   "cell_type": "markdown",
   "metadata": {},
   "source": [
    "### Sniping"
   ]
  },
  {
   "cell_type": "code",
   "execution_count": 39,
   "metadata": {},
   "outputs": [],
   "source": [
    "numSupport = 7\n",
    "# supportUnit= [{'heavy':600}]\n",
    "supportUnit= [{'heavy':1,'spear':0},\n",
    "              {'heavy':1,'spear':0},\n",
    "              {'heavy':1,'spear':0},\n",
    "              {'heavy':1,'spear':0},\n",
    "              {'heavy':50,'spear':0},\n",
    "              {'heavy':80,'spear':0},\n",
    "              {'heavy':1,'spear':0}]\n",
    "\n",
    "supportVillage = '522|532'\n",
    "command = 'support'\n"
   ]
  },
  {
   "cell_type": "code",
   "execution_count": 40,
   "metadata": {},
   "outputs": [],
   "source": [
    "driver.switch_to_window(driver.window_handles[0])\n",
    "driver.get('https://en100.tribalwars.net/game.php?screen=place&mode=command')\n",
    "\n",
    "for i in range(numSupport):\n",
    "    \n",
    "    driver.get('https://en100.tribalwars.net/game.php?screen=place&mode=command')\n",
    "    \n",
    "    if len(supportUnit)==1:\n",
    "        enterUnits(supportUnit[0])\n",
    "    else:\n",
    "        enterUnits(supportUnit[i]) \n",
    "    \n",
    "    coordsInput = driver.find_element_by_name('input').send_keys(supportVillage)\n",
    "    driver.find_element_by_name(command).click()\n",
    "    \n",
    "    if i!=(numSupport-1):\n",
    "        driver.execute_script(\"window.open('');\")\n",
    "        driver.switch_to_window(driver.window_handles[-1])\n",
    "        \n",
    "\n",
    "\n"
   ]
  },
  {
   "cell_type": "code",
   "execution_count": 41,
   "metadata": {},
   "outputs": [],
   "source": [
    "supportTime = '23:26:05'   # Support lands one second later\n",
    "# supportTime = '22:30:05'   # Support lands one second later"
   ]
  },
  {
   "cell_type": "code",
   "execution_count": 42,
   "metadata": {},
   "outputs": [],
   "source": [
    "pyautogui.moveTo(179,39)\n",
    "pyautogui.click()\n",
    "\n",
    "while(True):\n",
    "        \n",
    "    currentTime = driver.find_element_by_id('date_arrival').text[-8:]\n",
    "    \n",
    "    \n",
    "    if currentTime ==supportTime:\n",
    "        time.sleep(0.3)\n",
    "        for i in range(numSupport):\n",
    "            pyautogui.typewrite(['enter'])\n",
    "            pyautogui.typewrite(['pgdn'])\n",
    "#             pyautogui.hotkey('ctrl', 'pgdn')\n",
    "        \n",
    "        \n",
    "        break\n",
    "    else:\n",
    "        time.sleep(0.1)\n",
    "        \n",
    "\n",
    "for i in range(1,numSupport):\n",
    "    driver.switch_to_window(driver.window_handles[1])\n",
    "    driver.close()\n",
    "driver.switch_to_window(driver.window_handles[0])\n",
    "driver.get('https://en100.tribalwars.net/game.php?screen=place&mode=command')\n",
    "driver.refresh()"
   ]
  },
  {
   "cell_type": "code",
   "execution_count": 22,
   "metadata": {},
   "outputs": [],
   "source": [
    "driver.switch_to_window(driver.window_handles[0])\n",
    "driver.get('https://en100.tribalwars.net/game.php?screen=place&mode=command')"
   ]
  },
  {
   "cell_type": "code",
   "execution_count": 62,
   "metadata": {},
   "outputs": [
    {
     "name": "stdout",
     "output_type": "stream",
     "text": [
      "Help on method execute_script in module selenium.webdriver.remote.webdriver:\n",
      "\n",
      "execute_script(self, script, *args) method of selenium.webdriver.chrome.webdriver.WebDriver instance\n",
      "    Synchronously Executes JavaScript in the current window/frame.\n",
      "    \n",
      "    :Args:\n",
      "     - script: The JavaScript to execute.\n",
      "     - \\*args: Any applicable arguments for your JavaScript.\n",
      "    \n",
      "    :Usage:\n",
      "        driver.execute_script('return document.title;')\n",
      "\n"
     ]
    }
   ],
   "source": [
    "help(driver.execute_script())"
   ]
  },
  {
   "cell_type": "code",
   "execution_count": null,
   "metadata": {},
   "outputs": [],
   "source": []
  },
  {
   "cell_type": "code",
   "execution_count": null,
   "metadata": {},
   "outputs": [],
   "source": []
  },
  {
   "cell_type": "code",
   "execution_count": 9,
   "metadata": {},
   "outputs": [],
   "source": []
  },
  {
   "cell_type": "markdown",
   "metadata": {},
   "source": [
    "### Mass Fake Script"
   ]
  },
  {
   "cell_type": "code",
   "execution_count": 173,
   "metadata": {},
   "outputs": [],
   "source": [
    "targetList = ['541|513']\n",
    "\n",
    "\n",
    "\n",
    "villageList = ['542|512','538|511','538|510']\n",
    "totalFakes = 5\n",
    "from numpy.random import choice\n",
    "\n"
   ]
  },
  {
   "cell_type": "code",
   "execution_count": 155,
   "metadata": {},
   "outputs": [],
   "source": [
    "driver.get('https://en100.tribalwars.net/game.php?screen=place&mode=command')"
   ]
  },
  {
   "cell_type": "code",
   "execution_count": 156,
   "metadata": {},
   "outputs": [],
   "source": [
    "groupList = driver.find_element_by_id(\"open_groups\")\n",
    "groupList.click()"
   ]
  },
  {
   "cell_type": "code",
   "execution_count": 92,
   "metadata": {},
   "outputs": [],
   "source": []
  },
  {
   "cell_type": "code",
   "execution_count": 164,
   "metadata": {},
   "outputs": [],
   "source": [
    "def changeVillage(village):\n",
    "    \n",
    "    d = driver.find_element_by_id('group_popup_content_container')\n",
    "    \n",
    "    for row in d.find_elements_by_xpath(\".//tr\"):   \n",
    "        if village in row.text:\n",
    "            for col in row.find_elements_by_xpath(\".//td\"):\n",
    "                link = col.find_element_by_xpath(\".//a\")\n",
    "                break\n",
    "                \n",
    "    link.click()\n",
    "\n",
    "def sendAttack(target):\n",
    "    \n",
    "    driver.find_element_by_id(\"unit_input_ram\").send_keys('1')\n",
    "    driver.find_element_by_name('input').send_keys(target)\n",
    "    \n",
    "    driver.find_element_by_id(\"target_attack\").click()\n",
    "    \n",
    "    driver.find_element_by_id(\"troop_confirm_go\").click()\n",
    "    \n",
    "    \n",
    "    "
   ]
  },
  {
   "cell_type": "code",
   "execution_count": 176,
   "metadata": {},
   "outputs": [],
   "source": [
    "fakesSent = 0\n",
    "\n",
    "while fakesSent < totalFakes:\n",
    "    \n",
    "    attackVillage = choice(villageList)\n",
    "    target = choice(targetList)\n",
    "\n",
    "    changeVillage(attackVillage)\n",
    "\n",
    "\n",
    "    if int(driver.find_element_by_id(\"units_entry_all_ram\").text[1:-1]) != 0 :  \n",
    "        sendAttack(target)\n",
    "        fakesSent += 1 \n",
    "    else:\n",
    "        villageList.remove(attackVillage)\n",
    "        print(\"{} removed\".format(attackVillage))\n",
    "        \n",
    "    waitTime = np.random.randint(1,2)\n",
    "    sleep(waitTime)"
   ]
  },
  {
   "cell_type": "code",
   "execution_count": null,
   "metadata": {},
   "outputs": [],
   "source": [
    "# to close the village groups list\n",
    "groupList = driver.find_element_by_id(\"close_groups\")\n",
    "groupList.click()"
   ]
  },
  {
   "cell_type": "code",
   "execution_count": null,
   "metadata": {},
   "outputs": [],
   "source": []
  },
  {
   "cell_type": "code",
   "execution_count": null,
   "metadata": {},
   "outputs": [],
   "source": []
  },
  {
   "cell_type": "markdown",
   "metadata": {},
   "source": [
    "### Mass Recruiting Script"
   ]
  },
  {
   "cell_type": "code",
   "execution_count": 9,
   "metadata": {},
   "outputs": [],
   "source": [
    "driver.get('https://en100.tribalwars.net/game.php?screen=train')"
   ]
  },
  {
   "cell_type": "code",
   "execution_count": 10,
   "metadata": {},
   "outputs": [],
   "source": [
    "def getUnits(t):\n",
    "    units ={}\n",
    "    for i in range(0,len(t)-7,7):\n",
    "        unit = t[i]\n",
    "        count = int(t[i+6].split(\" \")[0].split(\"/\")[1])\n",
    "        units[unit]=count\n",
    "    return(units)"
   ]
  },
  {
   "cell_type": "code",
   "execution_count": 79,
   "metadata": {},
   "outputs": [],
   "source": [
    "driver.get('https://en100.tribalwars.net/game.php?screen=overview_villages')"
   ]
  },
  {
   "cell_type": "code",
   "execution_count": 5,
   "metadata": {},
   "outputs": [],
   "source": [
    "table = driver.find_element_by_id('production_table')\n",
    "a = table.find_elements_by_xpath(\".//tr\")\n",
    "b = a[1].find_elements_by_xpath(\".//td\")\n",
    "b[1].click()"
   ]
  },
  {
   "cell_type": "code",
   "execution_count": 30,
   "metadata": {},
   "outputs": [],
   "source": []
  },
  {
   "cell_type": "code",
   "execution_count": 136,
   "metadata": {},
   "outputs": [],
   "source": [
    "driver.get('https://en100.tribalwars.net/game.php?screen=train')"
   ]
  },
  {
   "cell_type": "code",
   "execution_count": 130,
   "metadata": {},
   "outputs": [],
   "source": []
  },
  {
   "cell_type": "code",
   "execution_count": 34,
   "metadata": {},
   "outputs": [
    {
     "data": {
      "text/plain": [
       "u'Unit Requirements In the village/total Recruit\\nSpear fighter\\n50\\n30\\n10\\n1\\n0:01:24\\n538/538 (6262)\\nSwordsman\\n30\\n30\\n70\\n1\\n0:02:04\\n0/0 (4535)\\nAxeman\\n60\\n30\\n40\\n1\\n0:01:49\\n0/0 (5218)\\nScout\\n50\\n50\\n20\\n2\\n0:01:34\\n0/0 (6262)\\nHeavy cavalry\\n200\\n150\\n600\\n6\\n0:06:15\\n120/120 (529)\\nRam\\n300\\n200\\n200\\n5\\n0:22:24\\n0/0 (1043)\\nCatapult\\n320\\n400\\n100\\n8\\n0:33:36\\n0/0 (880)'"
      ]
     },
     "execution_count": 34,
     "metadata": {},
     "output_type": "execute_result"
    }
   ],
   "source": []
  },
  {
   "cell_type": "code",
   "execution_count": 35,
   "metadata": {},
   "outputs": [],
   "source": []
  },
  {
   "cell_type": "code",
   "execution_count": 36,
   "metadata": {},
   "outputs": [
    {
     "data": {
      "text/plain": [
       "49"
      ]
     },
     "execution_count": 36,
     "metadata": {},
     "output_type": "execute_result"
    }
   ],
   "source": [
    "len(t[1:])"
   ]
  },
  {
   "cell_type": "code",
   "execution_count": 38,
   "metadata": {},
   "outputs": [],
   "source": []
  },
  {
   "cell_type": "code",
   "execution_count": 54,
   "metadata": {},
   "outputs": [],
   "source": []
  },
  {
   "cell_type": "code",
   "execution_count": 135,
   "metadata": {},
   "outputs": [],
   "source": [
    "unitCosts = {'Axeman': [60,30,40],\n",
    "             'Spear fighter':[50,30,10],\n",
    "            'Heavy cavalry':[200,150,600],\n",
    "            'Light cavalry':[125,100,250]}\n",
    "\n",
    "axeRatio = 4\n",
    "spearRatio = 5\n",
    "\n",
    "spendRatio = 0.02"
   ]
  },
  {
   "cell_type": "code",
   "execution_count": 141,
   "metadata": {},
   "outputs": [],
   "source": [
    "\n",
    "for i in range(5):\n",
    "    form =driver.find_element_by_id('train_form')\n",
    "    t = form.text.split(\"\\n\")\n",
    "    t=t[1:]\n",
    "    units = getUnits(t)\n",
    "\n",
    "\n",
    "    villageType='off'\n",
    "\n",
    "    if 'Axeman' not in units.keys():\n",
    "        villageType='def'\n",
    "    else:\n",
    "        if units['Axeman']>=100:\n",
    "            villageType='off'\n",
    "        else:\n",
    "            villageType='def'\n",
    "\n",
    "\n",
    "\n",
    "    res = int(driver.find_element_by_id('wood').text),int(driver.find_element_by_id('stone').text),int(driver.find_element_by_id('iron').text)\n",
    "    availRes = [int(res[0]*spendRatio),int(res[1]*spendRatio),int(res[2]*spendRatio)]\n",
    "\n",
    "\n",
    "\n",
    "    if villageType=='off':\n",
    "        clusterCost = [ unitCosts['Axeman'][0]*axeRatio + unitCosts['Light cavalry'][0],\n",
    "                      unitCosts['Axeman'][1]*axeRatio + unitCosts['Light cavalry'][1],\n",
    "                      unitCosts['Axeman'][2]*axeRatio + unitCosts['Light cavalry'][2]]\n",
    "\n",
    "        recruitCount = min( availRes[0]/clusterCost[0] , availRes[1]/clusterCost[1] , availRes[2]/clusterCost[2] )\n",
    "\n",
    "        driver.find_element_by_id('axe_0').send_keys(int(recruitCount)*axeRatio)\n",
    "        driver.find_element_by_id('light_0').send_keys(int(recruitCount))\n",
    "\n",
    "\n",
    "\n",
    "\n",
    "    else:\n",
    "\n",
    "        clusterCost = [ unitCosts['Spear fighter'][0]*spearRatio + unitCosts['Heavy cavalry'][0],\n",
    "                      unitCosts['Spear fighter'][1]*spearRatio + unitCosts['Heavy cavalry'][1],\n",
    "                      unitCosts['Spear fighter'][2]*spearRatio + unitCosts['Heavy cavalry'][2]]\n",
    "\n",
    "\n",
    "\n",
    "        recruitCount = min( availRes[0]/clusterCost[0] , availRes[1]/clusterCost[1] , availRes[2]/clusterCost[2] )\n",
    "\n",
    "        driver.find_element_by_id('spear_0').send_keys(int(recruitCount)*spearRatio)\n",
    "        driver.find_element_by_id('heavy_0').send_keys(int(recruitCount))\n",
    "\n",
    "\n",
    "    form =driver.find_element_by_id('train_form')\n",
    "    rows = form.find_elements_by_xpath('.//tr')\n",
    "    cols = rows[-1].find_elements_by_xpath(\".//td\")\n",
    "    cols[1].submit()\n",
    "\n",
    "    pyautogui.moveTo(272,986)\n",
    "    pyautogui.click()\n",
    "    pyautogui.typewrite(['d'])"
   ]
  },
  {
   "cell_type": "code",
   "execution_count": 124,
   "metadata": {},
   "outputs": [],
   "source": [
    "pyautogui.typewrite(['enter'])"
   ]
  },
  {
   "cell_type": "code",
   "execution_count": null,
   "metadata": {},
   "outputs": [],
   "source": []
  },
  {
   "cell_type": "code",
   "execution_count": 93,
   "metadata": {},
   "outputs": [],
   "source": [
    "a = driver.find_element_by_id('spear_0')"
   ]
  },
  {
   "cell_type": "code",
   "execution_count": null,
   "metadata": {},
   "outputs": [],
   "source": []
  }
 ],
 "metadata": {
  "kernelspec": {
   "display_name": "Python 2",
   "language": "python",
   "name": "python2"
  },
  "language_info": {
   "codemirror_mode": {
    "name": "ipython",
    "version": 2
   },
   "file_extension": ".py",
   "mimetype": "text/x-python",
   "name": "python",
   "nbconvert_exporter": "python",
   "pygments_lexer": "ipython2",
   "version": "2.7.12"
  }
 },
 "nbformat": 4,
 "nbformat_minor": 2
}
