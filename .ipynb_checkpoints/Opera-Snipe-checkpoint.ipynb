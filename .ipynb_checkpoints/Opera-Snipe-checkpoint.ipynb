{
 "cells": [
  {
   "cell_type": "code",
   "execution_count": 1,
   "metadata": {},
   "outputs": [],
   "source": [
    "from selenium import webdriver\n",
    "from selenium.webdriver.chrome import service\n",
    "import time\n",
    "from selenium import webdriver\n",
    "import Queue as Q\n",
    "import pandas as pd\n",
    "import numpy as np\n",
    "import pyautogui\n",
    "import os\n",
    "\n",
    "\n",
    "\n",
    "username='rsk05'\n",
    "password='123456789'\n",
    "world=100\n",
    "driverLocation='/home/rsk/Downloads/chromedriver'\n",
    "\n"
   ]
  },
  {
   "cell_type": "code",
   "execution_count": 35,
   "metadata": {},
   "outputs": [],
   "source": [
    "#Game login\n",
    "\n",
    "ops = {\"browserName\":\"opera\",\"chromeOptions\":{\"args\":[],\"extensions\":[],\"binary\":\"/usr/bin/opera\"}}\n",
    "\n",
    "driver = webdriver.Chrome('/home/rsk/Downloads/operadriver',desired_capabilities=ops)\n",
    "\n",
    "\n",
    "driver.get('https://en100.tribalwars.net/game.php?')\n",
    "\n",
    "uname = driver.find_element_by_name('username')\n",
    "uname.send_keys(username)\n",
    "\n",
    "\n",
    "pword = driver.find_element_by_name('password')\n",
    "pword.send_keys(password)\n",
    "\n",
    "login= driver.find_element_by_class_name('btn-login')\n",
    "login.click()\n",
    "\n",
    "time.sleep(1)\n",
    "driver.get('https://www.tribalwars.net/en-dk/page/play/en100')"
   ]
  },
  {
   "cell_type": "code",
   "execution_count": 7,
   "metadata": {},
   "outputs": [],
   "source": [
    "def enterUnits(units):\n",
    "    \n",
    "    for unitType in units:\n",
    "    \n",
    "        availUnits = int(driver.find_element_by_id('units_entry_all_'+unitType).text[1:-1])\n",
    "        \n",
    "        #check if required units are available\n",
    "        if availUnits < units[unitType]:\n",
    "            print(\"Insufficient troops. Attack to ({}|{}) not sent\".format(coords[0],coords[1]))\n",
    "            return(0)    \n",
    "        \n",
    "        unitInput = driver.find_element_by_name(unitType)\n",
    "        unitInput.send_keys(units[unitType])\n",
    "    "
   ]
  },
  {
   "cell_type": "code",
   "execution_count": 40,
   "metadata": {},
   "outputs": [],
   "source": [
    "numSupport = 5\n",
    "supportUnit= {'spear':1,'sword':1}\n",
    "supportVillage = '541|513'"
   ]
  },
  {
   "cell_type": "code",
   "execution_count": 41,
   "metadata": {},
   "outputs": [],
   "source": [
    "\n",
    "for i in range(numSupport):\n",
    "    \n",
    "    driver.get('https://en100.tribalwars.net/game.php?screen=place&mode=command')\n",
    "\n",
    "    enterUnits(supportUnit)\n",
    "    \n",
    "    coordsInput = driver.find_element_by_name('input').send_keys(supportVillage)\n",
    "    driver.find_element_by_name('support').click()\n",
    "    \n",
    "    if i!=(numSupport-1):\n",
    "        driver.execute_script(\"window.open('');\")\n",
    "        driver.switch_to_window(driver.window_handles[-1])\n",
    "        \n",
    "\n",
    "\n"
   ]
  },
  {
   "cell_type": "code",
   "execution_count": 42,
   "metadata": {},
   "outputs": [],
   "source": [
    "supportTime = '13:38:11'   # Support lands one second later"
   ]
  },
  {
   "cell_type": "code",
   "execution_count": 43,
   "metadata": {},
   "outputs": [],
   "source": [
    "pyautogui.moveTo(179,39)\n",
    "pyautogui.click()\n",
    "\n",
    "while(True):\n",
    "        \n",
    "    currentTime = driver.find_element_by_id('date_arrival').text[-8:]\n",
    "    \n",
    "    \n",
    "    if currentTime ==supportTime:\n",
    "        time.sleep(0.3)\n",
    "        for i in range(numSupport):\n",
    "            pyautogui.typewrite(['enter'])\n",
    "#             pyautogui.typewrite(['pgup'])\n",
    "            pyautogui.hotkey('ctrl', 'pgdn')\n",
    "        \n",
    "        \n",
    "        break\n",
    "    else:\n",
    "        time.sleep(0.1)\n",
    "        \n",
    "\n",
    "for i in range(1,numSupport):\n",
    "    driver.switch_to_window(driver.window_handles[1])\n",
    "    driver.close()\n",
    "driver.switch_to_window(driver.window_handles[0])\n",
    "driver.get('https://en100.tribalwars.net/game.php?screen=place&mode=command')\n",
    "driver.refresh()"
   ]
  },
  {
   "cell_type": "code",
   "execution_count": null,
   "metadata": {},
   "outputs": [],
   "source": []
  }
 ],
 "metadata": {
  "kernelspec": {
   "display_name": "Python 2",
   "language": "python",
   "name": "python2"
  },
  "language_info": {
   "codemirror_mode": {
    "name": "ipython",
    "version": 2
   },
   "file_extension": ".py",
   "mimetype": "text/x-python",
   "name": "python",
   "nbconvert_exporter": "python",
   "pygments_lexer": "ipython2",
   "version": "2.7.12"
  }
 },
 "nbformat": 4,
 "nbformat_minor": 2
}
