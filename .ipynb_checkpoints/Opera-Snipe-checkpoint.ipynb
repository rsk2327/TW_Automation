{
 "cells": [
  {
   "cell_type": "code",
   "execution_count": 175,
   "metadata": {},
   "outputs": [],
   "source": [
    "from selenium import webdriver\n",
    "from selenium.webdriver.chrome import service\n",
    "import time\n",
    "from selenium import webdriver\n",
    "import Queue as Q\n",
    "import pandas as pd\n",
    "import numpy as np\n",
    "import pyautogui\n",
    "import os\n",
    "import numpy as np\n",
    "\n",
    "from time import sleep\n",
    "\n",
    "username='rsk05'\n",
    "password='123qweasd'\n",
    "world=100\n",
    "driverLocation='/home/rsk/Downloads/chromedriver'\n",
    "\n"
   ]
  },
  {
   "cell_type": "code",
   "execution_count": 152,
   "metadata": {},
   "outputs": [],
   "source": [
    "#Game login\n",
    "\n",
    "ops = {\"browserName\":\"opera\",\"chromeOptions\":{\"args\":[],\"extensions\":[],\"binary\":\"/usr/bin/opera\"}}\n",
    "\n",
    "driver = webdriver.Chrome('/home/rsk/Downloads/operadriver',desired_capabilities=ops)\n",
    "\n",
    "\n",
    "driver.get('https://en100.tribalwars.net/game.php?')\n",
    "\n",
    "uname = driver.find_element_by_name('username')\n",
    "uname.send_keys(username)\n",
    "\n",
    "\n",
    "pword = driver.find_element_by_name('password')\n",
    "pword.send_keys(password)\n",
    "\n",
    "login= driver.find_element_by_class_name('btn-login')\n",
    "login.click()\n",
    "\n",
    "time.sleep(1)\n",
    "driver.get('https://www.tribalwars.net/en-dk/page/play/en100')"
   ]
  },
  {
   "cell_type": "code",
   "execution_count": 16,
   "metadata": {},
   "outputs": [],
   "source": [
    "def enterUnits(units):\n",
    "    \n",
    "    for unitType in units:\n",
    "    \n",
    "        availUnits = int(driver.find_element_by_id('units_entry_all_'+unitType).text[1:-1])\n",
    "        \n",
    "        #check if required units are available\n",
    "        if availUnits < units[unitType]:\n",
    "            print(\"Insufficient troops. Attack to ({}|{}) not sent\".format(coords[0],coords[1]))\n",
    "            return(0)    \n",
    "        \n",
    "        unitInput = driver.find_element_by_name(unitType)\n",
    "        unitInput.send_keys(units[unitType])\n",
    "    "
   ]
  },
  {
   "cell_type": "code",
   "execution_count": 26,
   "metadata": {},
   "outputs": [],
   "source": [
    "numSupport = 5\n",
    "supportUnit= {'ram':1}\n",
    "supportVillage = '515|524'"
   ]
  },
  {
   "cell_type": "code",
   "execution_count": 27,
   "metadata": {},
   "outputs": [],
   "source": [
    "\n",
    "for i in range(numSupport):\n",
    "    \n",
    "    driver.get('https://en100.tribalwars.net/game.php?screen=place&mode=command')\n",
    "\n",
    "    enterUnits(supportUnit)\n",
    "    \n",
    "    coordsInput = driver.find_element_by_name('input').send_keys(supportVillage)\n",
    "    driver.find_element_by_name('attack').click()\n",
    "    \n",
    "    if i!=(numSupport-1):\n",
    "        driver.execute_script(\"window.open('');\")\n",
    "        driver.switch_to_window(driver.window_handles[-1])\n",
    "        \n",
    "\n",
    "\n"
   ]
  },
  {
   "cell_type": "code",
   "execution_count": 28,
   "metadata": {},
   "outputs": [],
   "source": [
    "# supportTime = '01:36:19'   # Support lands one second later\n",
    "supportTime = '12:14:18'   # Support lands one second later"
   ]
  },
  {
   "cell_type": "code",
   "execution_count": 29,
   "metadata": {},
   "outputs": [],
   "source": [
    "pyautogui.moveTo(179,39)\n",
    "pyautogui.click()\n",
    "\n",
    "while(True):\n",
    "        \n",
    "    currentTime = driver.find_element_by_id('date_arrival').text[-8:]\n",
    "    \n",
    "    \n",
    "    if currentTime ==supportTime:\n",
    "        time.sleep(0.0)\n",
    "        for i in range(numSupport):\n",
    "            pyautogui.typewrite(['enter'])\n",
    "            pyautogui.typewrite(['pgdn'])\n",
    "#             pyautogui.hotkey('ctrl', 'pgdn')\n",
    "        \n",
    "        \n",
    "        break\n",
    "    else:\n",
    "        time.sleep(0.1)\n",
    "        \n",
    "\n",
    "for i in range(1,numSupport):\n",
    "    driver.switch_to_window(driver.window_handles[1])\n",
    "    driver.close()\n",
    "driver.switch_to_window(driver.window_handles[0])\n",
    "driver.get('https://en100.tribalwars.net/game.php?screen=place&mode=command')\n",
    "driver.refresh()"
   ]
  },
  {
   "cell_type": "code",
   "execution_count": 25,
   "metadata": {},
   "outputs": [],
   "source": [
    "driver.switch_to_window(driver.window_handles[0])\n",
    "driver.get('https://en100.tribalwars.net/game.php?screen=place&mode=command')"
   ]
  },
  {
   "cell_type": "code",
   "execution_count": 62,
   "metadata": {},
   "outputs": [
    {
     "name": "stdout",
     "output_type": "stream",
     "text": [
      "Help on method execute_script in module selenium.webdriver.remote.webdriver:\n",
      "\n",
      "execute_script(self, script, *args) method of selenium.webdriver.chrome.webdriver.WebDriver instance\n",
      "    Synchronously Executes JavaScript in the current window/frame.\n",
      "    \n",
      "    :Args:\n",
      "     - script: The JavaScript to execute.\n",
      "     - \\*args: Any applicable arguments for your JavaScript.\n",
      "    \n",
      "    :Usage:\n",
      "        driver.execute_script('return document.title;')\n",
      "\n"
     ]
    }
   ],
   "source": [
    "help(driver.execute_script())"
   ]
  },
  {
   "cell_type": "code",
   "execution_count": 63,
   "metadata": {},
   "outputs": [],
   "source": [
    "import datetime"
   ]
  },
  {
   "cell_type": "code",
   "execution_count": 97,
   "metadata": {},
   "outputs": [
    {
     "data": {
      "text/plain": [
       "942"
      ]
     },
     "execution_count": 97,
     "metadata": {},
     "output_type": "execute_result"
    }
   ],
   "source": [
    "driver.execute_script('var currMs = new Date().getMilliseconds();return currMs;')"
   ]
  },
  {
   "cell_type": "code",
   "execution_count": null,
   "metadata": {},
   "outputs": [],
   "source": []
  },
  {
   "cell_type": "code",
   "execution_count": 87,
   "metadata": {},
   "outputs": [
    {
     "data": {
      "text/plain": [
       "datetime.datetime(2018, 6, 26, 4, 10, 38, 702079)"
      ]
     },
     "execution_count": 87,
     "metadata": {},
     "output_type": "execute_result"
    }
   ],
   "source": [
    "datetime.datetime.now()"
   ]
  },
  {
   "cell_type": "code",
   "execution_count": 15,
   "metadata": {},
   "outputs": [],
   "source": [
    "#Timing attacks"
   ]
  },
  {
   "cell_type": "code",
   "execution_count": 2,
   "metadata": {},
   "outputs": [],
   "source": [
    "a='20:22:41:419'"
   ]
  },
  {
   "cell_type": "code",
   "execution_count": 3,
   "metadata": {},
   "outputs": [],
   "source": [
    "server='11:34:00'\n",
    "realTime='16:04:00'\n",
    "\n",
    "server = pd.to_datetime(server,format='%H:%M:%S')\n",
    "realTime = pd.to_datetime(realTime,format='%H:%M:%S')\n",
    "timeZoneDiff=realTime-server"
   ]
  },
  {
   "cell_type": "code",
   "execution_count": 4,
   "metadata": {},
   "outputs": [
    {
     "data": {
      "text/plain": [
       "'20:22:41'"
      ]
     },
     "execution_count": 4,
     "metadata": {},
     "output_type": "execute_result"
    }
   ],
   "source": [
    "a"
   ]
  },
  {
   "cell_type": "code",
   "execution_count": 5,
   "metadata": {},
   "outputs": [],
   "source": [
    "d = pd.to_datetime(a,format='%H:%M:%S')"
   ]
  },
  {
   "cell_type": "code",
   "execution_count": 6,
   "metadata": {},
   "outputs": [
    {
     "data": {
      "text/plain": [
       "Timestamp('1900-01-01 20:22:41')"
      ]
     },
     "execution_count": 6,
     "metadata": {},
     "output_type": "execute_result"
    }
   ],
   "source": [
    "d"
   ]
  },
  {
   "cell_type": "code",
   "execution_count": 7,
   "metadata": {},
   "outputs": [],
   "source": [
    "e = '06:43:37'\n",
    "e = pd.to_datetime(e,format='%H:%M:%S')"
   ]
  },
  {
   "cell_type": "code",
   "execution_count": 14,
   "metadata": {},
   "outputs": [
    {
     "data": {
      "text/plain": [
       "Timedelta('0 days 18:09:04')"
      ]
     },
     "execution_count": 14,
     "metadata": {},
     "output_type": "execute_result"
    }
   ],
   "source": [
    "(d - e) + timeZoneDiff"
   ]
  },
  {
   "cell_type": "code",
   "execution_count": 9,
   "metadata": {},
   "outputs": [],
   "source": []
  },
  {
   "cell_type": "markdown",
   "metadata": {},
   "source": [
    "### Mass Fake Script"
   ]
  },
  {
   "cell_type": "code",
   "execution_count": 173,
   "metadata": {},
   "outputs": [],
   "source": [
    "targetList = ['541|513']\n",
    "\n",
    "\n",
    "\n",
    "villageList = ['542|512','538|511','538|510']\n",
    "totalFakes = 5\n",
    "from numpy.random import choice\n",
    "\n"
   ]
  },
  {
   "cell_type": "code",
   "execution_count": 155,
   "metadata": {},
   "outputs": [],
   "source": [
    "driver.get('https://en100.tribalwars.net/game.php?screen=place&mode=command')"
   ]
  },
  {
   "cell_type": "code",
   "execution_count": 156,
   "metadata": {},
   "outputs": [],
   "source": [
    "groupList = driver.find_element_by_id(\"open_groups\")\n",
    "groupList.click()"
   ]
  },
  {
   "cell_type": "code",
   "execution_count": 92,
   "metadata": {},
   "outputs": [],
   "source": []
  },
  {
   "cell_type": "code",
   "execution_count": 164,
   "metadata": {},
   "outputs": [],
   "source": [
    "def changeVillage(village):\n",
    "    \n",
    "    d = driver.find_element_by_id('group_popup_content_container')\n",
    "    \n",
    "    for row in d.find_elements_by_xpath(\".//tr\"):   \n",
    "        if village in row.text:\n",
    "            for col in row.find_elements_by_xpath(\".//td\"):\n",
    "                link = col.find_element_by_xpath(\".//a\")\n",
    "                break\n",
    "                \n",
    "    link.click()\n",
    "\n",
    "def sendAttack(target):\n",
    "    \n",
    "    driver.find_element_by_id(\"unit_input_ram\").send_keys('1')\n",
    "    driver.find_element_by_name('input').send_keys(target)\n",
    "    \n",
    "    driver.find_element_by_id(\"target_attack\").click()\n",
    "    \n",
    "    driver.find_element_by_id(\"troop_confirm_go\").click()\n",
    "    \n",
    "    \n",
    "    "
   ]
  },
  {
   "cell_type": "code",
   "execution_count": 176,
   "metadata": {},
   "outputs": [],
   "source": [
    "fakesSent = 0\n",
    "\n",
    "while fakesSent < totalFakes:\n",
    "    \n",
    "    attackVillage = choice(villageList)\n",
    "    target = choice(targetList)\n",
    "\n",
    "    changeVillage(attackVillage)\n",
    "\n",
    "\n",
    "    if int(driver.find_element_by_id(\"units_entry_all_ram\").text[1:-1]) != 0 :  \n",
    "        sendAttack(target)\n",
    "        fakesSent += 1 \n",
    "    else:\n",
    "        villageList.remove(attackVillage)\n",
    "        print(\"{} removed\".format(attackVillage))\n",
    "        \n",
    "    waitTime = np.random.randint(1,2)\n",
    "    sleep(waitTime)"
   ]
  },
  {
   "cell_type": "code",
   "execution_count": null,
   "metadata": {},
   "outputs": [],
   "source": [
    "# to close the village groups list\n",
    "groupList = driver.find_element_by_id(\"close_groups\")\n",
    "groupList.click()"
   ]
  }
 ],
 "metadata": {
  "kernelspec": {
   "display_name": "Python 2",
   "language": "python",
   "name": "python2"
  },
  "language_info": {
   "codemirror_mode": {
    "name": "ipython",
    "version": 2
   },
   "file_extension": ".py",
   "mimetype": "text/x-python",
   "name": "python",
   "nbconvert_exporter": "python",
   "pygments_lexer": "ipython2",
   "version": "2.7.12"
  }
 },
 "nbformat": 4,
 "nbformat_minor": 2
}
