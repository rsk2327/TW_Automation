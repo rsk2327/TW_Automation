{
 "cells": [
  {
   "cell_type": "code",
   "execution_count": 2,
   "metadata": {},
   "outputs": [],
   "source": [
    "import time\n",
    "from selenium import webdriver\n",
    "import Queue as Q\n",
    "import pandas as pd\n",
    "import numpy as np\n",
    "\n",
    "driver = webdriver.Chrome('/home/rsk/Downloads/chromedriver')\n",
    "\n",
    "driver.get('https://en100.tribalwars.net/game.php?village=2502')\n",
    "\n",
    "uname = driver.find_element_by_name('username')\n",
    "uname.send_keys('rsk05')\n",
    "\n",
    "\n",
    "pword = driver.find_element_by_name('password')\n",
    "pword.send_keys('swaminathan')\n",
    "\n",
    "login= driver.find_element_by_class_name('btn-login')\n",
    "login.click()\n",
    "\n",
    "time.sleep(3)\n",
    "driver.get('https://www.tribalwars.net/en-dk/page/play/en101')"
   ]
  },
  {
   "cell_type": "code",
   "execution_count": 100,
   "metadata": {},
   "outputs": [],
   "source": [
    "def getUnits():\n",
    "    \n",
    "    driver.get('https://en99.tribalwars.net/game.php?screen=overview')\n",
    "    \n",
    "    unitsData = driver.find_element_by_id(\"show_units\")\n",
    "    \n",
    "    t=unitsData.text\n",
    "    t = t.split(\"\\n\")\n",
    "    t = t[1:-1]\n",
    "    \n",
    "    unitsInfo={}\n",
    "    \n",
    "    unitNames = {'Spear':'spear','Swordsmen':'sword','Axemen':'axe','Archers':'archer','Scouts':'spy','Light':'light','RoshanSK':'knight'}\n",
    "    \n",
    "    for types in t:\n",
    "        types = types.split(\" \")\n",
    "        unitsInfo[unitNames[types[1]]] = int(types[0])\n",
    "        \n",
    "    return(unitsInfo)\n",
    "    "
   ]
  },
  {
   "cell_type": "code",
   "execution_count": 127,
   "metadata": {},
   "outputs": [],
   "source": [
    "import time"
   ]
  },
  {
   "cell_type": "code",
   "execution_count": 101,
   "metadata": {},
   "outputs": [
    {
     "data": {
      "text/plain": [
       "{'archer': 15,\n",
       " 'axe': 132,\n",
       " 'knight': 1,\n",
       " 'light': 112,\n",
       " 'spear': 800,\n",
       " 'spy': 69,\n",
       " 'sword': 941}"
      ]
     },
     "execution_count": 101,
     "metadata": {},
     "output_type": "execute_result"
    }
   ],
   "source": [
    "getUnits()"
   ]
  },
  {
   "cell_type": "code",
   "execution_count": 3,
   "metadata": {},
   "outputs": [],
   "source": [
    "def sendAttack(coords,units):\n",
    "    \n",
    "    currentURL = driver.current_url\n",
    "    \n",
    "    if currentURL[-8:] == 'overview':\n",
    "        newURL = currentURL[:-8]+'place'\n",
    "        driver.get(newURL)\n",
    "    else:\n",
    "        driver.get('https://en101.tribalwars.net/game.php?screen=place')\n",
    "    \n",
    "    coordsInput = driver.find_element_by_name('input')\n",
    "    coordsInput.send_keys(str(coords[0])+'|'+str(coords[1]))\n",
    "    \n",
    "    for unitType in units:\n",
    "    \n",
    "        availUnits = int(driver.find_element_by_id('units_entry_all_'+unitType).text[1:-1])\n",
    "        \n",
    "        #check if required units are available\n",
    "        if availUnits < units[unitType]:\n",
    "            return(0)\n",
    "        \n",
    "        unitInput = driver.find_element_by_name(unitType)\n",
    "        unitInput.send_keys(units[unitType])\n",
    "    \n",
    "    attackButton = driver.find_element_by_name('attack')\n",
    "    attackButton.click()\n",
    "    \n",
    "    sendButton = driver.find_element_by_name('submit')\n",
    "    sendButton.click()\n",
    "    \n",
    "    times = driver.find_element_by_id('serverTime').text\n",
    "    date = driver.find_element_by_id('serverDate').text\n",
    "    timeDate = times+' '+date\n",
    "    \n",
    "    return(timeDate)"
   ]
  },
  {
   "cell_type": "code",
   "execution_count": 4,
   "metadata": {},
   "outputs": [],
   "source": [
    "    \n",
    "lcTemp3 = {'light':3,'spy':1}\n",
    "lcTemp4 = {'light':3,'spy':1}\n",
    "\n",
    "spTemp = {'spear':30,'axe':6,'spy':1}\n",
    "ssTemp = {'spear':30,'sword':30,'spy':1}\n",
    "ssTemp2 = {'spear':10,'sword':6,'axe':2}\n"
   ]
  },
  {
   "cell_type": "code",
   "execution_count": 5,
   "metadata": {},
   "outputs": [],
   "source": [
    "def startFarm(fileName):\n",
    "\n",
    "    data = pd.read_csv(fileName)\n",
    "\n",
    "    data['lastAttacked'] = data['lastAttacked'].apply(lambda x : pd.to_datetime(x,format='%Y-%m-%d %H:%M:%S'))\n",
    "\n",
    "    data = data.sort_values('lastAttacked')\n",
    "\n",
    "\n",
    "    for i in range(len(data)):\n",
    "        coords = [data.iloc[i]['x'],data.iloc[i]['y']]\n",
    "        key = data.iloc[i]['key']\n",
    "\n",
    "        temp = data.iloc[i]['template']\n",
    "\n",
    "        if temp=='lcTemp3':\n",
    "            out = sendAttack(coords,lcTemp3)\n",
    "        elif temp=='lcTemp4':\n",
    "            out = sendAttack(coords,lcTemp4)\n",
    "        elif temp=='ssTemp2':\n",
    "            out = sendAttack(coords,ssTemp2)\n",
    "\n",
    "        if out==0:\n",
    "            break\n",
    "        else:\n",
    "            data.loc[data.key==key,'lastAttacked'] = pd.to_datetime(out,format='%H:%M:%S %d/%m/%Y')\n",
    "\n",
    "\n",
    "    data.to_csv(fileName,index=False,index_label=False)\n",
    "    "
   ]
  },
  {
   "cell_type": "code",
   "execution_count": 8,
   "metadata": {},
   "outputs": [],
   "source": [
    "startFarm('closeBarbsList101.csv')"
   ]
  },
  {
   "cell_type": "code",
   "execution_count": null,
   "metadata": {},
   "outputs": [],
   "source": []
  },
  {
   "cell_type": "code",
   "execution_count": null,
   "metadata": {},
   "outputs": [],
   "source": []
  },
  {
   "cell_type": "code",
   "execution_count": null,
   "metadata": {},
   "outputs": [],
   "source": []
  },
  {
   "cell_type": "code",
   "execution_count": null,
   "metadata": {},
   "outputs": [],
   "source": []
  },
  {
   "cell_type": "code",
   "execution_count": null,
   "metadata": {},
   "outputs": [],
   "source": []
  },
  {
   "cell_type": "code",
   "execution_count": null,
   "metadata": {},
   "outputs": [],
   "source": []
  },
  {
   "cell_type": "code",
   "execution_count": null,
   "metadata": {},
   "outputs": [],
   "source": []
  },
  {
   "cell_type": "code",
   "execution_count": null,
   "metadata": {},
   "outputs": [],
   "source": []
  },
  {
   "cell_type": "code",
   "execution_count": null,
   "metadata": {},
   "outputs": [],
   "source": []
  },
  {
   "cell_type": "code",
   "execution_count": null,
   "metadata": {},
   "outputs": [],
   "source": []
  },
  {
   "cell_type": "code",
   "execution_count": null,
   "metadata": {},
   "outputs": [],
   "source": [
    "\n",
    "data = pd.read_csv('farBarbsList.csv')\n",
    "\n",
    "data['lastAttacked'] = data['lastAttacked'].apply(lambda x : pd.to_datetime(x,format='%Y-%m-%d %H:%M:%S'))\n",
    "\n",
    "data = data.sort_values('lastAttacked')\n",
    "\n",
    "\n",
    "for i in range(len(data)):\n",
    "    coords = [data.iloc[i]['x'],data.iloc[i]['y']]\n",
    "    key = data.iloc[i]['key']\n",
    "    \n",
    "    temp = data.iloc[i]['template']\n",
    "    \n",
    "    if temp=='lcTemp3':\n",
    "        out = sendAttack(coords,lcTemp3)\n",
    "    elif temp=='lcTemp4':\n",
    "        out = sendAttack(coords,lcTemp4)\n",
    "        \n",
    "    if out==0:\n",
    "        break\n",
    "    else:\n",
    "        data.loc[data.key==key,'lastAttacked'] = pd.to_datetime(out,format='%H:%M:%S %d/%m/%Y')\n",
    "        print(data.loc[data.key==key,'lastAttacked'])\n",
    "        \n",
    "\n",
    "data.to_csv('farBarbsList.csv',index=False,index_label=False)\n",
    "        "
   ]
  },
  {
   "cell_type": "code",
   "execution_count": 109,
   "metadata": {},
   "outputs": [],
   "source": [
    "farBarbsList=[[488,481],\n",
    "             [488,477],\n",
    "             [490,477],\n",
    "             [489,480],\n",
    "             [490,481],\n",
    "             [490,482],\n",
    "             [491,481],\n",
    "             [491,483],\n",
    "             [491,484],\n",
    "             [485,483],\n",
    "             [482,479],\n",
    "             [483,475],\n",
    "             [484,473],\n",
    "             [488,486],\n",
    "             [491,485],\n",
    "             [493,484],\n",
    "             [492,487],\n",
    "             [491,488],\n",
    "             [493,488],\n",
    "             [492,489]]\n",
    "\n",
    "for i in range(len(farBarbsList)):\n",
    "    farBarbsList[i] = (0,farBarbsList[i])"
   ]
  },
  {
   "cell_type": "code",
   "execution_count": 115,
   "metadata": {},
   "outputs": [],
   "source": [
    "a = np.array([x[1][0] for x in farBarbsList])\n",
    "b = np.array([x[1][1] for x in farBarbsList])\n",
    "\n",
    "df = pd.DataFrame(np.array([a,b]).T,columns = ['x','y'])\n",
    "\n",
    "df['key'] = df.apply(lambda x : str(x['x'])+str(x['y']),axis=1)\n",
    "df['points'] = df.apply( lambda x : 0, axis=1)\n",
    "df['lastAttacked'] = df.apply( lambda x : pd.to_datetime('20:24:27 10/05/2018', format='%H:%M:%S %d/%m/%Y'), axis=1)\n",
    "df['prevFarm'] = df.apply(lambda x: 0, axis=1)\n",
    "df['prevScout'] = df.apply(lambda x: 0, axis=1)\n",
    "df['template'] = df.apply(lambda x:'ssTemp2', axis=1)\n",
    "df['fullReturns'] = df.apply(lambda x : 0, axis=1)\n",
    "df['totalFarm'] = df.apply(lambda x : 0, axis=1)\n",
    "df['totalAttacks'] = df.apply(lambda x : 0, axis=1)\n",
    "\n",
    "df.to_csv('closeBarbsList101.csv',index=False,index_label=False)\n"
   ]
  },
  {
   "cell_type": "code",
   "execution_count": 116,
   "metadata": {},
   "outputs": [
    {
     "data": {
      "text/plain": [
       "20"
      ]
     },
     "execution_count": 116,
     "metadata": {},
     "output_type": "execute_result"
    }
   ],
   "source": [
    "len(farBarbsList)"
   ]
  },
  {
   "cell_type": "code",
   "execution_count": null,
   "metadata": {},
   "outputs": [],
   "source": [
    "closeBarbsList=[(0,[610,381]),\n",
    "               (0,[608,378]),\n",
    "               (0,[607,381]),\n",
    "               (0,[613,379]),\n",
    "                (0,[611,383]),\n",
    "                (0,[609,383]),\n",
    "                (0,[608,375]),\n",
    "                (0,[609,374]),\n",
    "                (0,[608,374]),\n",
    "                (0,[608,373]),\n",
    "                (0,[606,374]),\n",
    "                (0,[612,373]),\n",
    "                (0,[614,381]),\n",
    "                (0,[615,381]),\n",
    "                (0,[614,382])\n",
    "               ]"
   ]
  },
  {
   "cell_type": "code",
   "execution_count": null,
   "metadata": {},
   "outputs": [],
   "source": [
    "farBarbsList=[[603,373],\n",
    "             [602,373],\n",
    "             [601,373],\n",
    "             [600,373],\n",
    "              [598,374],\n",
    "              [601,377],\n",
    "              [600,377],\n",
    "              [603,379],\n",
    "              [598,380],\n",
    "              [599,381],\n",
    "              [600,381],\n",
    "              [598,383],\n",
    "              [599,383],\n",
    "              [597,384],\n",
    "              [598,384],\n",
    "              [597,385],\n",
    "              [599,386],\n",
    "              [600,386],\n",
    "              [602,386],\n",
    "              [598,386],\n",
    "              [607,386],\n",
    "              [606,387],\n",
    "              [604,386],\n",
    "              [604,388],\n",
    "              [605,389],\n",
    "              [604,389],\n",
    "              [607,391]]\n",
    "\n",
    "for i in range(len(farBarbsList)):\n",
    "    farBarbsList[i] = (0,farBarbsList[i])\n",
    "        "
   ]
  }
 ],
 "metadata": {
  "kernelspec": {
   "display_name": "Python 2",
   "language": "python",
   "name": "python2"
  },
  "language_info": {
   "codemirror_mode": {
    "name": "ipython",
    "version": 2
   },
   "file_extension": ".py",
   "mimetype": "text/x-python",
   "name": "python",
   "nbconvert_exporter": "python",
   "pygments_lexer": "ipython2",
   "version": "2.7.12"
  }
 },
 "nbformat": 4,
 "nbformat_minor": 2
}
