{
 "cells": [
  {
   "cell_type": "code",
   "execution_count": 1,
   "metadata": {},
   "outputs": [],
   "source": [
    "from selenium import webdriver\n",
    "from selenium.webdriver.chrome import service\n",
    "import time\n",
    "from selenium import webdriver\n",
    "import Queue as Q\n",
    "import pandas as pd\n",
    "import numpy as np\n",
    "import pyautogui\n",
    "import os\n",
    "import numpy as np\n",
    "\n",
    "from time import sleep\n",
    "\n",
    "username='rsk05'\n",
    "password='123qweasd'\n",
    "world=100\n",
    "driverLocation='/home/rsk/Downloads/chromedriver'\n",
    "\n"
   ]
  },
  {
   "cell_type": "code",
   "execution_count": 2,
   "metadata": {},
   "outputs": [],
   "source": [
    "#Game login\n",
    "\n",
    "ops = {\"browserName\":\"opera\",\"chromeOptions\":{\"args\":[],\"extensions\":[],\"binary\":\"/usr/bin/opera\"}}\n",
    "\n",
    "driver = webdriver.Chrome('/home/rsk/Downloads/operadriver',desired_capabilities=ops)\n",
    "\n",
    "\n",
    "driver.get('https://en100.tribalwars.net/game.php?')\n",
    "\n",
    "uname = driver.find_element_by_name('username')\n",
    "uname.send_keys(username)\n",
    "\n",
    "\n",
    "pword = driver.find_element_by_name('password')\n",
    "pword.send_keys(password)\n",
    "\n",
    "login= driver.find_element_by_class_name('btn-login')\n",
    "login.click()\n",
    "\n",
    "time.sleep(1)\n",
    "driver.get('https://www.tribalwars.net/en-dk/page/play/en100')"
   ]
  },
  {
   "cell_type": "code",
   "execution_count": 3,
   "metadata": {},
   "outputs": [],
   "source": [
    "def enterUnits(units):\n",
    "    \n",
    "    for unitType in units:\n",
    "    \n",
    "        availUnits = int(driver.find_element_by_id('units_entry_all_'+unitType).text[1:-1])\n",
    "        \n",
    "        #check if required units are available\n",
    "        if availUnits < units[unitType]:\n",
    "            print(\"Insufficient troops. Attack to ({}|{}) not sent\".format(coords[0],coords[1]))\n",
    "            return(0)    \n",
    "        \n",
    "        unitInput = driver.find_element_by_name(unitType)\n",
    "        unitInput.send_keys(units[unitType])\n",
    "    "
   ]
  },
  {
   "cell_type": "markdown",
   "metadata": {},
   "source": [
    "### Sniping"
   ]
  },
  {
   "cell_type": "code",
   "execution_count": 166,
   "metadata": {},
   "outputs": [],
   "source": [
    "numSupport = 12\n",
    "supportUnit= [{'ram':1}]\n",
    "# supportUnit= [{'heavy':1,'spear':0},\n",
    "#               {'heavy':1,'spear':0},\n",
    "#               {'heavy':1,'spear':0},\n",
    "#               {'heavy':1,'spear':0},\n",
    "#               {'heavy':50,'spear':0},\n",
    "#               {'heavy':80,'spear':0},\n",
    "#               {'heavy':1,'spear':0}]\n",
    "\n",
    "supportVillage = '551|515'\n",
    "command = 'attack'\n"
   ]
  },
  {
   "cell_type": "code",
   "execution_count": 167,
   "metadata": {},
   "outputs": [],
   "source": [
    "driver.switch_to_window(driver.window_handles[0])\n",
    "driver.get('https://en100.tribalwars.net/game.php?screen=place&mode=command')\n",
    "\n",
    "for i in range(numSupport):\n",
    "    \n",
    "    driver.get('https://en100.tribalwars.net/game.php?screen=place&mode=command')\n",
    "    \n",
    "    if len(supportUnit)==1:\n",
    "        enterUnits(supportUnit[0])\n",
    "    else:\n",
    "        enterUnits(supportUnit[i]) \n",
    "    \n",
    "    coordsInput = driver.find_element_by_name('input').send_keys(supportVillage)\n",
    "    driver.find_element_by_name(command).click()\n",
    "    \n",
    "    if i!=(numSupport-1):\n",
    "        driver.execute_script(\"window.open('');\")\n",
    "        driver.switch_to_window(driver.window_handles[-1])\n",
    "        \n",
    "\n",
    "\n"
   ]
  },
  {
   "cell_type": "code",
   "execution_count": 41,
   "metadata": {},
   "outputs": [],
   "source": [
    "supportTime = '23:26:05'   # Support lands one second later\n",
    "# supportTime = '22:30:05'   # Support lands one second later"
   ]
  },
  {
   "cell_type": "code",
   "execution_count": 42,
   "metadata": {},
   "outputs": [],
   "source": [
    "pyautogui.moveTo(179,39)\n",
    "pyautogui.click()\n",
    "\n",
    "while(True):\n",
    "        \n",
    "    currentTime = driver.find_element_by_id('date_arrival').text[-8:]\n",
    "    \n",
    "    \n",
    "    if currentTime ==supportTime:\n",
    "        time.sleep(0.3)\n",
    "        for i in range(numSupport):\n",
    "            pyautogui.typewrite(['enter'])\n",
    "            pyautogui.typewrite(['pgdn'])\n",
    "#             pyautogui.hotkey('ctrl', 'pgdn')\n",
    "        \n",
    "        \n",
    "        break\n",
    "    else:\n",
    "        time.sleep(0.1)\n",
    "        \n",
    "\n",
    "for i in range(1,numSupport):\n",
    "    driver.switch_to_window(driver.window_handles[1])\n",
    "    driver.close()\n",
    "driver.switch_to_window(driver.window_handles[0])\n",
    "driver.get('https://en100.tribalwars.net/game.php?screen=place&mode=command')\n",
    "driver.refresh()"
   ]
  },
  {
   "cell_type": "code",
   "execution_count": 22,
   "metadata": {},
   "outputs": [],
   "source": [
    "driver.switch_to_window(driver.window_handles[0])\n",
    "driver.get('https://en100.tribalwars.net/game.php?screen=place&mode=command')"
   ]
  },
  {
   "cell_type": "code",
   "execution_count": 62,
   "metadata": {},
   "outputs": [
    {
     "name": "stdout",
     "output_type": "stream",
     "text": [
      "Help on method execute_script in module selenium.webdriver.remote.webdriver:\n",
      "\n",
      "execute_script(self, script, *args) method of selenium.webdriver.chrome.webdriver.WebDriver instance\n",
      "    Synchronously Executes JavaScript in the current window/frame.\n",
      "    \n",
      "    :Args:\n",
      "     - script: The JavaScript to execute.\n",
      "     - \\*args: Any applicable arguments for your JavaScript.\n",
      "    \n",
      "    :Usage:\n",
      "        driver.execute_script('return document.title;')\n",
      "\n"
     ]
    }
   ],
   "source": [
    "help(driver.execute_script())"
   ]
  },
  {
   "cell_type": "code",
   "execution_count": null,
   "metadata": {},
   "outputs": [],
   "source": []
  },
  {
   "cell_type": "code",
   "execution_count": null,
   "metadata": {},
   "outputs": [],
   "source": []
  },
  {
   "cell_type": "code",
   "execution_count": 9,
   "metadata": {},
   "outputs": [],
   "source": []
  },
  {
   "cell_type": "markdown",
   "metadata": {},
   "source": [
    "### Mass Fake Script"
   ]
  },
  {
   "cell_type": "code",
   "execution_count": 8,
   "metadata": {},
   "outputs": [],
   "source": [
    "targetList = ['541|513']\n",
    "\n",
    "targetList = ['533|520',\n",
    "'515|521',\n",
    "'525|517',\n",
    "'510|522',\n",
    "'523|510',\n",
    "'516|520',\n",
    "'510|519',\n",
    "'532|519',\n",
    "'516|531',\n",
    "'523|508',\n",
    "'515|515',\n",
    "'527|523',\n",
    "'511|521',\n",
    "'512|514',\n",
    "'509|524',\n",
    "'510|521',\n",
    "'525|512',\n",
    "'508|523',\n",
    "'510|520',\n",
    "'524|509']\n",
    "\n",
    "\n",
    "\n",
    "\n",
    "villageList = ['539|508',\n",
    "'537|511',\n",
    "'542|512',\n",
    "'544|511',\n",
    "'538|511',\n",
    "'538|510',\n",
    "'539|507',\n",
    "'539|505',\n",
    "'536|505',\n",
    "'541|511',\n",
    "'541|510',\n",
    "'541|507',\n",
    "'540|512',\n",
    "'539|504',\n",
    "'537|506',\n",
    "'548|518',\n",
    "'547|518',\n",
    "'547|519',\n",
    "'546|520',\n",
    "'546|525',\n",
    "'542|523',\n",
    "'544|514',\n",
    "'544|516',\n",
    "'551|520',\n",
    "'539|518',\n",
    "'532|507',\n",
    "'530|510',\n",
    "'534|515',\n",
    "'535|514',\n",
    "'531|517',\n",
    "'531|519',\n",
    "'529|520',\n",
    "'528|500',\n",
    "'526|496',\n",
    "'525|495',\n",
    "'527|494',\n",
    "'515|522',\n",
    "'515|524',\n",
    "'512|522',\n",
    "'546|507',\n",
    "'545|506',\n",
    "'549|503',\n",
    "'552|502',\n",
    "'554|511',\n",
    "'553|511',\n",
    "'552|506',\n",
    "'553|507',\n",
    "'555|508',\n",
    "'556|507'\n",
    "]\n",
    "\n",
    "\n",
    "totalFakes = 50\n",
    "from numpy.random import choice\n",
    "\n"
   ]
  },
  {
   "cell_type": "code",
   "execution_count": 11,
   "metadata": {},
   "outputs": [],
   "source": [
    "driver.get('https://en100.tribalwars.net/game.php?screen=place&mode=command')"
   ]
  },
  {
   "cell_type": "code",
   "execution_count": 12,
   "metadata": {},
   "outputs": [
    {
     "ename": "ElementNotVisibleException",
     "evalue": "Message: element not visible\n  (Session info: chrome with embedded Chromium 66.0.3359.139)\n  (Driver info: OperaDriver=2.36 (bf69a2a4687a45dedaabd6155fd52bb0b7eb10c5),platform=Linux 4.15.0-29-generic x86_64)\n",
     "output_type": "error",
     "traceback": [
      "\u001b[0;31m---------------------------------------------------------------------------\u001b[0m",
      "\u001b[0;31mElementNotVisibleException\u001b[0m                Traceback (most recent call last)",
      "\u001b[0;32m<ipython-input-12-bf161d95b835>\u001b[0m in \u001b[0;36m<module>\u001b[0;34m()\u001b[0m\n\u001b[1;32m      1\u001b[0m \u001b[0mgroupList\u001b[0m \u001b[0;34m=\u001b[0m \u001b[0mdriver\u001b[0m\u001b[0;34m.\u001b[0m\u001b[0mfind_element_by_id\u001b[0m\u001b[0;34m(\u001b[0m\u001b[0;34m\"open_groups\"\u001b[0m\u001b[0;34m)\u001b[0m\u001b[0;34m\u001b[0m\u001b[0m\n\u001b[0;32m----> 2\u001b[0;31m \u001b[0mgroupList\u001b[0m\u001b[0;34m.\u001b[0m\u001b[0mclick\u001b[0m\u001b[0;34m(\u001b[0m\u001b[0;34m)\u001b[0m\u001b[0;34m\u001b[0m\u001b[0m\n\u001b[0m",
      "\u001b[0;32m/usr/local/lib/python2.7/dist-packages/selenium/webdriver/remote/webelement.pyc\u001b[0m in \u001b[0;36mclick\u001b[0;34m(self)\u001b[0m\n\u001b[1;32m     78\u001b[0m     \u001b[0;32mdef\u001b[0m \u001b[0mclick\u001b[0m\u001b[0;34m(\u001b[0m\u001b[0mself\u001b[0m\u001b[0;34m)\u001b[0m\u001b[0;34m:\u001b[0m\u001b[0;34m\u001b[0m\u001b[0m\n\u001b[1;32m     79\u001b[0m         \u001b[0;34m\"\"\"Clicks the element.\"\"\"\u001b[0m\u001b[0;34m\u001b[0m\u001b[0m\n\u001b[0;32m---> 80\u001b[0;31m         \u001b[0mself\u001b[0m\u001b[0;34m.\u001b[0m\u001b[0m_execute\u001b[0m\u001b[0;34m(\u001b[0m\u001b[0mCommand\u001b[0m\u001b[0;34m.\u001b[0m\u001b[0mCLICK_ELEMENT\u001b[0m\u001b[0;34m)\u001b[0m\u001b[0;34m\u001b[0m\u001b[0m\n\u001b[0m\u001b[1;32m     81\u001b[0m \u001b[0;34m\u001b[0m\u001b[0m\n\u001b[1;32m     82\u001b[0m     \u001b[0;32mdef\u001b[0m \u001b[0msubmit\u001b[0m\u001b[0;34m(\u001b[0m\u001b[0mself\u001b[0m\u001b[0;34m)\u001b[0m\u001b[0;34m:\u001b[0m\u001b[0;34m\u001b[0m\u001b[0m\n",
      "\u001b[0;32m/usr/local/lib/python2.7/dist-packages/selenium/webdriver/remote/webelement.pyc\u001b[0m in \u001b[0;36m_execute\u001b[0;34m(self, command, params)\u001b[0m\n\u001b[1;32m    626\u001b[0m             \u001b[0mparams\u001b[0m \u001b[0;34m=\u001b[0m \u001b[0;34m{\u001b[0m\u001b[0;34m}\u001b[0m\u001b[0;34m\u001b[0m\u001b[0m\n\u001b[1;32m    627\u001b[0m         \u001b[0mparams\u001b[0m\u001b[0;34m[\u001b[0m\u001b[0;34m'id'\u001b[0m\u001b[0;34m]\u001b[0m \u001b[0;34m=\u001b[0m \u001b[0mself\u001b[0m\u001b[0;34m.\u001b[0m\u001b[0m_id\u001b[0m\u001b[0;34m\u001b[0m\u001b[0m\n\u001b[0;32m--> 628\u001b[0;31m         \u001b[0;32mreturn\u001b[0m \u001b[0mself\u001b[0m\u001b[0;34m.\u001b[0m\u001b[0m_parent\u001b[0m\u001b[0;34m.\u001b[0m\u001b[0mexecute\u001b[0m\u001b[0;34m(\u001b[0m\u001b[0mcommand\u001b[0m\u001b[0;34m,\u001b[0m \u001b[0mparams\u001b[0m\u001b[0;34m)\u001b[0m\u001b[0;34m\u001b[0m\u001b[0m\n\u001b[0m\u001b[1;32m    629\u001b[0m \u001b[0;34m\u001b[0m\u001b[0m\n\u001b[1;32m    630\u001b[0m     \u001b[0;32mdef\u001b[0m \u001b[0mfind_element\u001b[0m\u001b[0;34m(\u001b[0m\u001b[0mself\u001b[0m\u001b[0;34m,\u001b[0m \u001b[0mby\u001b[0m\u001b[0;34m=\u001b[0m\u001b[0mBy\u001b[0m\u001b[0;34m.\u001b[0m\u001b[0mID\u001b[0m\u001b[0;34m,\u001b[0m \u001b[0mvalue\u001b[0m\u001b[0;34m=\u001b[0m\u001b[0mNone\u001b[0m\u001b[0;34m)\u001b[0m\u001b[0;34m:\u001b[0m\u001b[0;34m\u001b[0m\u001b[0m\n",
      "\u001b[0;32m/usr/local/lib/python2.7/dist-packages/selenium/webdriver/remote/webdriver.pyc\u001b[0m in \u001b[0;36mexecute\u001b[0;34m(self, driver_command, params)\u001b[0m\n\u001b[1;32m    312\u001b[0m         \u001b[0mresponse\u001b[0m \u001b[0;34m=\u001b[0m \u001b[0mself\u001b[0m\u001b[0;34m.\u001b[0m\u001b[0mcommand_executor\u001b[0m\u001b[0;34m.\u001b[0m\u001b[0mexecute\u001b[0m\u001b[0;34m(\u001b[0m\u001b[0mdriver_command\u001b[0m\u001b[0;34m,\u001b[0m \u001b[0mparams\u001b[0m\u001b[0;34m)\u001b[0m\u001b[0;34m\u001b[0m\u001b[0m\n\u001b[1;32m    313\u001b[0m         \u001b[0;32mif\u001b[0m \u001b[0mresponse\u001b[0m\u001b[0;34m:\u001b[0m\u001b[0;34m\u001b[0m\u001b[0m\n\u001b[0;32m--> 314\u001b[0;31m             \u001b[0mself\u001b[0m\u001b[0;34m.\u001b[0m\u001b[0merror_handler\u001b[0m\u001b[0;34m.\u001b[0m\u001b[0mcheck_response\u001b[0m\u001b[0;34m(\u001b[0m\u001b[0mresponse\u001b[0m\u001b[0;34m)\u001b[0m\u001b[0;34m\u001b[0m\u001b[0m\n\u001b[0m\u001b[1;32m    315\u001b[0m             response['value'] = self._unwrap_value(\n\u001b[1;32m    316\u001b[0m                 response.get('value', None))\n",
      "\u001b[0;32m/usr/local/lib/python2.7/dist-packages/selenium/webdriver/remote/errorhandler.pyc\u001b[0m in \u001b[0;36mcheck_response\u001b[0;34m(self, response)\u001b[0m\n\u001b[1;32m    240\u001b[0m                 \u001b[0malert_text\u001b[0m \u001b[0;34m=\u001b[0m \u001b[0mvalue\u001b[0m\u001b[0;34m[\u001b[0m\u001b[0;34m'alert'\u001b[0m\u001b[0;34m]\u001b[0m\u001b[0;34m.\u001b[0m\u001b[0mget\u001b[0m\u001b[0;34m(\u001b[0m\u001b[0;34m'text'\u001b[0m\u001b[0;34m)\u001b[0m\u001b[0;34m\u001b[0m\u001b[0m\n\u001b[1;32m    241\u001b[0m             \u001b[0;32mraise\u001b[0m \u001b[0mexception_class\u001b[0m\u001b[0;34m(\u001b[0m\u001b[0mmessage\u001b[0m\u001b[0;34m,\u001b[0m \u001b[0mscreen\u001b[0m\u001b[0;34m,\u001b[0m \u001b[0mstacktrace\u001b[0m\u001b[0;34m,\u001b[0m \u001b[0malert_text\u001b[0m\u001b[0;34m)\u001b[0m\u001b[0;34m\u001b[0m\u001b[0m\n\u001b[0;32m--> 242\u001b[0;31m         \u001b[0;32mraise\u001b[0m \u001b[0mexception_class\u001b[0m\u001b[0;34m(\u001b[0m\u001b[0mmessage\u001b[0m\u001b[0;34m,\u001b[0m \u001b[0mscreen\u001b[0m\u001b[0;34m,\u001b[0m \u001b[0mstacktrace\u001b[0m\u001b[0;34m)\u001b[0m\u001b[0;34m\u001b[0m\u001b[0m\n\u001b[0m\u001b[1;32m    243\u001b[0m \u001b[0;34m\u001b[0m\u001b[0m\n\u001b[1;32m    244\u001b[0m     \u001b[0;32mdef\u001b[0m \u001b[0m_value_or_default\u001b[0m\u001b[0;34m(\u001b[0m\u001b[0mself\u001b[0m\u001b[0;34m,\u001b[0m \u001b[0mobj\u001b[0m\u001b[0;34m,\u001b[0m \u001b[0mkey\u001b[0m\u001b[0;34m,\u001b[0m \u001b[0mdefault\u001b[0m\u001b[0;34m)\u001b[0m\u001b[0;34m:\u001b[0m\u001b[0;34m\u001b[0m\u001b[0m\n",
      "\u001b[0;31mElementNotVisibleException\u001b[0m: Message: element not visible\n  (Session info: chrome with embedded Chromium 66.0.3359.139)\n  (Driver info: OperaDriver=2.36 (bf69a2a4687a45dedaabd6155fd52bb0b7eb10c5),platform=Linux 4.15.0-29-generic x86_64)\n"
     ]
    }
   ],
   "source": [
    "groupList = driver.find_element_by_id(\"open_groups\")\n",
    "groupList.click()"
   ]
  },
  {
   "cell_type": "code",
   "execution_count": 92,
   "metadata": {},
   "outputs": [],
   "source": []
  },
  {
   "cell_type": "code",
   "execution_count": 13,
   "metadata": {},
   "outputs": [],
   "source": [
    "def changeVillage(village):\n",
    "    \n",
    "    d = driver.find_element_by_id('group_popup_content_container')\n",
    "    \n",
    "    for row in d.find_elements_by_xpath(\".//tr\"):   \n",
    "        if village in row.text:\n",
    "            for col in row.find_elements_by_xpath(\".//td\"):\n",
    "                link = col.find_element_by_xpath(\".//a\")\n",
    "                break\n",
    "                \n",
    "    link.click()\n",
    "\n",
    "def sendAttack(target):\n",
    "    \n",
    "    driver.find_element_by_id(\"unit_input_ram\").send_keys('1')\n",
    "    driver.find_element_by_name('input').send_keys(target)\n",
    "    \n",
    "    driver.find_element_by_id(\"target_attack\").click()\n",
    "    \n",
    "    driver.find_element_by_id(\"troop_confirm_go\").click()\n",
    "    \n",
    "    \n",
    "    "
   ]
  },
  {
   "cell_type": "code",
   "execution_count": 14,
   "metadata": {},
   "outputs": [
    {
     "name": "stdout",
     "output_type": "stream",
     "text": [
      "531|517 removed\n",
      "538|511 removed\n",
      "527|494 removed\n",
      "547|518 removed\n",
      "546|520 removed\n",
      "525|495 removed\n",
      "549|503 removed\n",
      "545|506 removed\n"
     ]
    },
    {
     "ename": "NoSuchElementException",
     "evalue": "Message: no such element: Unable to locate element: {\"method\":\"id\",\"selector\":\"group_popup_content_container\"}\n  (Session info: chrome with embedded Chromium 66.0.3359.139)\n  (Driver info: OperaDriver=2.36 (bf69a2a4687a45dedaabd6155fd52bb0b7eb10c5),platform=Linux 4.15.0-29-generic x86_64)\n",
     "output_type": "error",
     "traceback": [
      "\u001b[0;31m---------------------------------------------------------------------------\u001b[0m",
      "\u001b[0;31mNoSuchElementException\u001b[0m                    Traceback (most recent call last)",
      "\u001b[0;32m<ipython-input-14-e9c0c2ee5376>\u001b[0m in \u001b[0;36m<module>\u001b[0;34m()\u001b[0m\n\u001b[1;32m      6\u001b[0m     \u001b[0mtarget\u001b[0m \u001b[0;34m=\u001b[0m \u001b[0mchoice\u001b[0m\u001b[0;34m(\u001b[0m\u001b[0mtargetList\u001b[0m\u001b[0;34m)\u001b[0m\u001b[0;34m\u001b[0m\u001b[0m\n\u001b[1;32m      7\u001b[0m \u001b[0;34m\u001b[0m\u001b[0m\n\u001b[0;32m----> 8\u001b[0;31m     \u001b[0mchangeVillage\u001b[0m\u001b[0;34m(\u001b[0m\u001b[0mattackVillage\u001b[0m\u001b[0;34m)\u001b[0m\u001b[0;34m\u001b[0m\u001b[0m\n\u001b[0m\u001b[1;32m      9\u001b[0m \u001b[0;34m\u001b[0m\u001b[0m\n\u001b[1;32m     10\u001b[0m \u001b[0;34m\u001b[0m\u001b[0m\n",
      "\u001b[0;32m<ipython-input-13-dfc94d25a707>\u001b[0m in \u001b[0;36mchangeVillage\u001b[0;34m(village)\u001b[0m\n\u001b[1;32m      1\u001b[0m \u001b[0;32mdef\u001b[0m \u001b[0mchangeVillage\u001b[0m\u001b[0;34m(\u001b[0m\u001b[0mvillage\u001b[0m\u001b[0;34m)\u001b[0m\u001b[0;34m:\u001b[0m\u001b[0;34m\u001b[0m\u001b[0m\n\u001b[1;32m      2\u001b[0m \u001b[0;34m\u001b[0m\u001b[0m\n\u001b[0;32m----> 3\u001b[0;31m     \u001b[0md\u001b[0m \u001b[0;34m=\u001b[0m \u001b[0mdriver\u001b[0m\u001b[0;34m.\u001b[0m\u001b[0mfind_element_by_id\u001b[0m\u001b[0;34m(\u001b[0m\u001b[0;34m'group_popup_content_container'\u001b[0m\u001b[0;34m)\u001b[0m\u001b[0;34m\u001b[0m\u001b[0m\n\u001b[0m\u001b[1;32m      4\u001b[0m \u001b[0;34m\u001b[0m\u001b[0m\n\u001b[1;32m      5\u001b[0m     \u001b[0;32mfor\u001b[0m \u001b[0mrow\u001b[0m \u001b[0;32min\u001b[0m \u001b[0md\u001b[0m\u001b[0;34m.\u001b[0m\u001b[0mfind_elements_by_xpath\u001b[0m\u001b[0;34m(\u001b[0m\u001b[0;34m\".//tr\"\u001b[0m\u001b[0;34m)\u001b[0m\u001b[0;34m:\u001b[0m\u001b[0;34m\u001b[0m\u001b[0m\n",
      "\u001b[0;32m/usr/local/lib/python2.7/dist-packages/selenium/webdriver/remote/webdriver.pyc\u001b[0m in \u001b[0;36mfind_element_by_id\u001b[0;34m(self, id_)\u001b[0m\n\u001b[1;32m    351\u001b[0m             \u001b[0melement\u001b[0m \u001b[0;34m=\u001b[0m \u001b[0mdriver\u001b[0m\u001b[0;34m.\u001b[0m\u001b[0mfind_element_by_id\u001b[0m\u001b[0;34m(\u001b[0m\u001b[0;34m'foo'\u001b[0m\u001b[0;34m)\u001b[0m\u001b[0;34m\u001b[0m\u001b[0m\n\u001b[1;32m    352\u001b[0m         \"\"\"\n\u001b[0;32m--> 353\u001b[0;31m         \u001b[0;32mreturn\u001b[0m \u001b[0mself\u001b[0m\u001b[0;34m.\u001b[0m\u001b[0mfind_element\u001b[0m\u001b[0;34m(\u001b[0m\u001b[0mby\u001b[0m\u001b[0;34m=\u001b[0m\u001b[0mBy\u001b[0m\u001b[0;34m.\u001b[0m\u001b[0mID\u001b[0m\u001b[0;34m,\u001b[0m \u001b[0mvalue\u001b[0m\u001b[0;34m=\u001b[0m\u001b[0mid_\u001b[0m\u001b[0;34m)\u001b[0m\u001b[0;34m\u001b[0m\u001b[0m\n\u001b[0m\u001b[1;32m    354\u001b[0m \u001b[0;34m\u001b[0m\u001b[0m\n\u001b[1;32m    355\u001b[0m     \u001b[0;32mdef\u001b[0m \u001b[0mfind_elements_by_id\u001b[0m\u001b[0;34m(\u001b[0m\u001b[0mself\u001b[0m\u001b[0;34m,\u001b[0m \u001b[0mid_\u001b[0m\u001b[0;34m)\u001b[0m\u001b[0;34m:\u001b[0m\u001b[0;34m\u001b[0m\u001b[0m\n",
      "\u001b[0;32m/usr/local/lib/python2.7/dist-packages/selenium/webdriver/remote/webdriver.pyc\u001b[0m in \u001b[0;36mfind_element\u001b[0;34m(self, by, value)\u001b[0m\n\u001b[1;32m    955\u001b[0m         return self.execute(Command.FIND_ELEMENT, {\n\u001b[1;32m    956\u001b[0m             \u001b[0;34m'using'\u001b[0m\u001b[0;34m:\u001b[0m \u001b[0mby\u001b[0m\u001b[0;34m,\u001b[0m\u001b[0;34m\u001b[0m\u001b[0m\n\u001b[0;32m--> 957\u001b[0;31m             'value': value})['value']\n\u001b[0m\u001b[1;32m    958\u001b[0m \u001b[0;34m\u001b[0m\u001b[0m\n\u001b[1;32m    959\u001b[0m     \u001b[0;32mdef\u001b[0m \u001b[0mfind_elements\u001b[0m\u001b[0;34m(\u001b[0m\u001b[0mself\u001b[0m\u001b[0;34m,\u001b[0m \u001b[0mby\u001b[0m\u001b[0;34m=\u001b[0m\u001b[0mBy\u001b[0m\u001b[0;34m.\u001b[0m\u001b[0mID\u001b[0m\u001b[0;34m,\u001b[0m \u001b[0mvalue\u001b[0m\u001b[0;34m=\u001b[0m\u001b[0mNone\u001b[0m\u001b[0;34m)\u001b[0m\u001b[0;34m:\u001b[0m\u001b[0;34m\u001b[0m\u001b[0m\n",
      "\u001b[0;32m/usr/local/lib/python2.7/dist-packages/selenium/webdriver/remote/webdriver.pyc\u001b[0m in \u001b[0;36mexecute\u001b[0;34m(self, driver_command, params)\u001b[0m\n\u001b[1;32m    312\u001b[0m         \u001b[0mresponse\u001b[0m \u001b[0;34m=\u001b[0m \u001b[0mself\u001b[0m\u001b[0;34m.\u001b[0m\u001b[0mcommand_executor\u001b[0m\u001b[0;34m.\u001b[0m\u001b[0mexecute\u001b[0m\u001b[0;34m(\u001b[0m\u001b[0mdriver_command\u001b[0m\u001b[0;34m,\u001b[0m \u001b[0mparams\u001b[0m\u001b[0;34m)\u001b[0m\u001b[0;34m\u001b[0m\u001b[0m\n\u001b[1;32m    313\u001b[0m         \u001b[0;32mif\u001b[0m \u001b[0mresponse\u001b[0m\u001b[0;34m:\u001b[0m\u001b[0;34m\u001b[0m\u001b[0m\n\u001b[0;32m--> 314\u001b[0;31m             \u001b[0mself\u001b[0m\u001b[0;34m.\u001b[0m\u001b[0merror_handler\u001b[0m\u001b[0;34m.\u001b[0m\u001b[0mcheck_response\u001b[0m\u001b[0;34m(\u001b[0m\u001b[0mresponse\u001b[0m\u001b[0;34m)\u001b[0m\u001b[0;34m\u001b[0m\u001b[0m\n\u001b[0m\u001b[1;32m    315\u001b[0m             response['value'] = self._unwrap_value(\n\u001b[1;32m    316\u001b[0m                 response.get('value', None))\n",
      "\u001b[0;32m/usr/local/lib/python2.7/dist-packages/selenium/webdriver/remote/errorhandler.pyc\u001b[0m in \u001b[0;36mcheck_response\u001b[0;34m(self, response)\u001b[0m\n\u001b[1;32m    240\u001b[0m                 \u001b[0malert_text\u001b[0m \u001b[0;34m=\u001b[0m \u001b[0mvalue\u001b[0m\u001b[0;34m[\u001b[0m\u001b[0;34m'alert'\u001b[0m\u001b[0;34m]\u001b[0m\u001b[0;34m.\u001b[0m\u001b[0mget\u001b[0m\u001b[0;34m(\u001b[0m\u001b[0;34m'text'\u001b[0m\u001b[0;34m)\u001b[0m\u001b[0;34m\u001b[0m\u001b[0m\n\u001b[1;32m    241\u001b[0m             \u001b[0;32mraise\u001b[0m \u001b[0mexception_class\u001b[0m\u001b[0;34m(\u001b[0m\u001b[0mmessage\u001b[0m\u001b[0;34m,\u001b[0m \u001b[0mscreen\u001b[0m\u001b[0;34m,\u001b[0m \u001b[0mstacktrace\u001b[0m\u001b[0;34m,\u001b[0m \u001b[0malert_text\u001b[0m\u001b[0;34m)\u001b[0m\u001b[0;34m\u001b[0m\u001b[0m\n\u001b[0;32m--> 242\u001b[0;31m         \u001b[0;32mraise\u001b[0m \u001b[0mexception_class\u001b[0m\u001b[0;34m(\u001b[0m\u001b[0mmessage\u001b[0m\u001b[0;34m,\u001b[0m \u001b[0mscreen\u001b[0m\u001b[0;34m,\u001b[0m \u001b[0mstacktrace\u001b[0m\u001b[0;34m)\u001b[0m\u001b[0;34m\u001b[0m\u001b[0m\n\u001b[0m\u001b[1;32m    243\u001b[0m \u001b[0;34m\u001b[0m\u001b[0m\n\u001b[1;32m    244\u001b[0m     \u001b[0;32mdef\u001b[0m \u001b[0m_value_or_default\u001b[0m\u001b[0;34m(\u001b[0m\u001b[0mself\u001b[0m\u001b[0;34m,\u001b[0m \u001b[0mobj\u001b[0m\u001b[0;34m,\u001b[0m \u001b[0mkey\u001b[0m\u001b[0;34m,\u001b[0m \u001b[0mdefault\u001b[0m\u001b[0;34m)\u001b[0m\u001b[0;34m:\u001b[0m\u001b[0;34m\u001b[0m\u001b[0m\n",
      "\u001b[0;31mNoSuchElementException\u001b[0m: Message: no such element: Unable to locate element: {\"method\":\"id\",\"selector\":\"group_popup_content_container\"}\n  (Session info: chrome with embedded Chromium 66.0.3359.139)\n  (Driver info: OperaDriver=2.36 (bf69a2a4687a45dedaabd6155fd52bb0b7eb10c5),platform=Linux 4.15.0-29-generic x86_64)\n"
     ]
    }
   ],
   "source": [
    "fakesSent = 0\n",
    "\n",
    "while fakesSent < totalFakes:\n",
    "    \n",
    "    attackVillage = choice(villageList)\n",
    "    target = choice(targetList)\n",
    "\n",
    "    changeVillage(attackVillage)\n",
    "\n",
    "\n",
    "    if int(driver.find_element_by_id(\"units_entry_all_ram\").text[1:-1]) != 0 :  \n",
    "        sendAttack(target)\n",
    "        fakesSent += 1 \n",
    "    else:\n",
    "        villageList.remove(attackVillage)\n",
    "        print(\"{} removed\".format(attackVillage))\n",
    "        \n",
    "    waitTime = np.random.randint(1,2)\n",
    "    sleep(waitTime)"
   ]
  },
  {
   "cell_type": "code",
   "execution_count": null,
   "metadata": {},
   "outputs": [],
   "source": [
    "# to close the village groups list\n",
    "groupList = driver.find_element_by_id(\"close_groups\")\n",
    "groupList.click()"
   ]
  },
  {
   "cell_type": "code",
   "execution_count": null,
   "metadata": {},
   "outputs": [],
   "source": []
  },
  {
   "cell_type": "code",
   "execution_count": null,
   "metadata": {},
   "outputs": [],
   "source": []
  },
  {
   "cell_type": "markdown",
   "metadata": {},
   "source": [
    "### Mass Recruiting Script"
   ]
  },
  {
   "cell_type": "code",
   "execution_count": 9,
   "metadata": {},
   "outputs": [],
   "source": [
    "driver.get('https://en100.tribalwars.net/game.php?screen=train')"
   ]
  },
  {
   "cell_type": "code",
   "execution_count": 4,
   "metadata": {},
   "outputs": [],
   "source": [
    "def getUnits(t):\n",
    "    units ={}\n",
    "    for i in range(0,len(t)-7,7):\n",
    "        unit = t[i]\n",
    "        count = int(t[i+6].split(\" \")[0].split(\"/\")[1])\n",
    "        units[unit]=count\n",
    "    return(units)"
   ]
  },
  {
   "cell_type": "code",
   "execution_count": 36,
   "metadata": {},
   "outputs": [],
   "source": [
    "driver.get('https://en100.tribalwars.net/game.php?screen=overview_villages')"
   ]
  },
  {
   "cell_type": "code",
   "execution_count": 37,
   "metadata": {},
   "outputs": [],
   "source": [
    "table = driver.find_element_by_id('production_table')\n",
    "a = table.find_elements_by_xpath(\".//tr\")\n",
    "b = a[1].find_elements_by_xpath(\".//td\")\n",
    "b[1].find_elements_by_xpath(\".//span\")[0].click()"
   ]
  },
  {
   "cell_type": "code",
   "execution_count": 38,
   "metadata": {},
   "outputs": [],
   "source": [
    "driver.get('https://en100.tribalwars.net/game.php?screen=train')"
   ]
  },
  {
   "cell_type": "code",
   "execution_count": 11,
   "metadata": {},
   "outputs": [],
   "source": [
    "unitCosts = {'Axeman': [60,30,40],\n",
    "             'Spear fighter':[50,30,10],\n",
    "            'Heavy cavalry':[200,150,600],\n",
    "            'Light cavalry':[125,100,250]}\n",
    "\n",
    "axeRatio = 3\n",
    "spearRatio = 5\n",
    "\n",
    "spendRatio = 0.4"
   ]
  },
  {
   "cell_type": "code",
   "execution_count": 12,
   "metadata": {},
   "outputs": [],
   "source": [
    "\n",
    "for i in range(29):\n",
    "    form =driver.find_element_by_id('train_form')\n",
    "    t = form.text.split(\"\\n\")\n",
    "    t=t[1:]\n",
    "    units = getUnits(t)\n",
    "\n",
    "\n",
    "    villageType='off'\n",
    "\n",
    "    if 'Axeman' not in units.keys():\n",
    "        villageType='def'\n",
    "    else:\n",
    "        if units['Axeman']>=100:\n",
    "            villageType='off'\n",
    "        else:\n",
    "            villageType='def'\n",
    "\n",
    "\n",
    "\n",
    "    res = int(driver.find_element_by_id('wood').text),int(driver.find_element_by_id('stone').text),int(driver.find_element_by_id('iron').text)\n",
    "    availRes = [int(res[0]*spendRatio),int(res[1]*spendRatio),int(res[2]*spendRatio)]\n",
    "\n",
    "\n",
    "\n",
    "    if villageType=='off':\n",
    "        clusterCost = [ unitCosts['Axeman'][0]*axeRatio + unitCosts['Light cavalry'][0],\n",
    "                      unitCosts['Axeman'][1]*axeRatio + unitCosts['Light cavalry'][1],\n",
    "                      unitCosts['Axeman'][2]*axeRatio + unitCosts['Light cavalry'][2]]\n",
    "\n",
    "        recruitCount = min( availRes[0]/clusterCost[0] , availRes[1]/clusterCost[1] , availRes[2]/clusterCost[2] )\n",
    "\n",
    "        driver.find_element_by_id('axe_0').send_keys(int(recruitCount)*axeRatio)\n",
    "        driver.find_element_by_id('light_0').send_keys(int(recruitCount))\n",
    "\n",
    "\n",
    "\n",
    "\n",
    "    else:\n",
    "\n",
    "        clusterCost = [ unitCosts['Spear fighter'][0]*spearRatio + unitCosts['Heavy cavalry'][0],\n",
    "                      unitCosts['Spear fighter'][1]*spearRatio + unitCosts['Heavy cavalry'][1],\n",
    "                      unitCosts['Spear fighter'][2]*spearRatio + unitCosts['Heavy cavalry'][2]]\n",
    "\n",
    "\n",
    "\n",
    "        recruitCount = min( availRes[0]/clusterCost[0] , availRes[1]/clusterCost[1] , availRes[2]/clusterCost[2] )\n",
    "\n",
    "        driver.find_element_by_id('spear_0').send_keys(int(recruitCount)*spearRatio)\n",
    "        try:\n",
    "            driver.find_element_by_id('heavy_0').send_keys(int(recruitCount))\n",
    "        except:\n",
    "            n=1\n",
    "            \n",
    "        \n",
    "\n",
    "\n",
    "    form =driver.find_element_by_id('train_form')\n",
    "    rows = form.find_elements_by_xpath('.//tr')\n",
    "    cols = rows[-1].find_elements_by_xpath(\".//td\")\n",
    "    cols[1].submit()\n",
    "\n",
    "    pyautogui.moveTo(272,986)\n",
    "    pyautogui.click()\n",
    "    pyautogui.typewrite(['d'])"
   ]
  },
  {
   "cell_type": "code",
   "execution_count": 124,
   "metadata": {},
   "outputs": [],
   "source": [
    "pyautogui.typewrite(['enter'])"
   ]
  },
  {
   "cell_type": "code",
   "execution_count": null,
   "metadata": {},
   "outputs": [],
   "source": []
  },
  {
   "cell_type": "code",
   "execution_count": null,
   "metadata": {},
   "outputs": [],
   "source": []
  },
  {
   "cell_type": "code",
   "execution_count": null,
   "metadata": {},
   "outputs": [],
   "source": []
  },
  {
   "cell_type": "markdown",
   "metadata": {},
   "source": [
    "### Coin recruiting script"
   ]
  },
  {
   "cell_type": "code",
   "execution_count": 3,
   "metadata": {},
   "outputs": [],
   "source": [
    "driver.get('https://en100.tribalwars.net/game.php?screen=overview_villages')"
   ]
  },
  {
   "cell_type": "code",
   "execution_count": 4,
   "metadata": {},
   "outputs": [],
   "source": [
    "table = driver.find_element_by_id('production_table')\n",
    "numVillages = int(table.text.split(\"\\n\")[0].split(\" \")[1][1:-1])\n",
    "a = table.find_elements_by_xpath(\".//tr\")\n",
    "b = a[1].find_elements_by_xpath(\".//td\")\n",
    "b[1].find_elements_by_xpath(\".//span\")[0].click()"
   ]
  },
  {
   "cell_type": "code",
   "execution_count": 5,
   "metadata": {},
   "outputs": [],
   "source": [
    "driver.get('https://en100.tribalwars.net/game.php?screen=snob')"
   ]
  },
  {
   "cell_type": "code",
   "execution_count": 6,
   "metadata": {},
   "outputs": [
    {
     "name": "stdout",
     "output_type": "stream",
     "text": [
      "11 coins minted. Total Coins : 0\n",
      "7 coins minted. Total Coins : 11\n",
      "8 coins minted. Total Coins : 18\n",
      "6 coins minted. Total Coins : 26\n",
      "2 coins minted. Total Coins : 32\n",
      "1 coins minted. Total Coins : 34\n",
      "5 coins minted. Total Coins : 35\n",
      "10 coins minted. Total Coins : 40\n",
      "12 coins minted. Total Coins : 50\n",
      "5 coins minted. Total Coins : 62\n",
      "8 coins minted. Total Coins : 67\n",
      "9 coins minted. Total Coins : 75\n",
      "9 coins minted. Total Coins : 84\n",
      "8 coins minted. Total Coins : 93\n",
      "10 coins minted. Total Coins : 101\n",
      "13 coins minted. Total Coins : 111\n",
      "7 coins minted. Total Coins : 124\n",
      "7 coins minted. Total Coins : 131\n",
      "5 coins minted. Total Coins : 138\n",
      "6 coins minted. Total Coins : 143\n",
      "5 coins minted. Total Coins : 149\n",
      "3 coins minted. Total Coins : 154\n",
      "2 coins minted. Total Coins : 157\n",
      "11 coins minted. Total Coins : 159\n",
      "7 coins minted. Total Coins : 170\n",
      "4 coins minted. Total Coins : 177\n",
      "9 coins minted. Total Coins : 181\n",
      "7 coins minted. Total Coins : 190\n",
      "10 coins minted. Total Coins : 197\n",
      "8 coins minted. Total Coins : 207\n",
      "9 coins minted. Total Coins : 215\n",
      "9 coins minted. Total Coins : 224\n",
      "Total coins minted : 233\n"
     ]
    }
   ],
   "source": [
    "totalCoins = 0\n",
    "\n",
    "for i in range(numVillages):\n",
    "    \n",
    "    c = driver.find_elements_by_xpath(\".//table\")[0].text\n",
    "    \n",
    "    if \"Academy (not constructed)\" in c:\n",
    "        pyautogui.moveTo(272,986)\n",
    "        pyautogui.click()\n",
    "        pyautogui.typewrite(['d'])\n",
    "        continue\n",
    "    \n",
    "    a=driver.find_elements_by_xpath(\".//table\")[-1]\n",
    "    \n",
    "    if \"Resources available\" in a.text:\n",
    "        pyautogui.moveTo(272,986)\n",
    "        pyautogui.click()\n",
    "        pyautogui.typewrite(['d'])\n",
    "    else:\n",
    "        maxCoins = int(a.text.split(\"\\n\")[-1][1:-1])\n",
    "        b = a.find_element_by_id('coin_mint_count')\n",
    "        b.clear()\n",
    "        mintCoins=3\n",
    "        if maxCoins<=4:\n",
    "            mintCoins=2\n",
    "        elif maxCoins <=8:\n",
    "            mintCoins = 5\n",
    "        else:\n",
    "            mintCoins = min(maxCoins,7)\n",
    "            \n",
    "        b.send_keys(str(mintCoins))\n",
    "        a.find_elements_by_xpath(\".//input\")[1].click()\n",
    "        print(\"{} coins minted. Total Coins : {}\".format(maxCoins,totalCoins))\n",
    "        \n",
    "        totalCoins += maxCoins\n",
    "        \n",
    "        \n",
    "        pyautogui.moveTo(272,986)\n",
    "        pyautogui.click()\n",
    "        pyautogui.typewrite(['d'])\n",
    "        \n",
    "print(\"Total coins minted : {}\".format(totalCoins))    \n",
    "    "
   ]
  },
  {
   "cell_type": "code",
   "execution_count": 14,
   "metadata": {},
   "outputs": [],
   "source": [
    "a=driver.find_elements_by_xpath(\".//table\")"
   ]
  },
  {
   "cell_type": "code",
   "execution_count": 16,
   "metadata": {},
   "outputs": [
    {
     "data": {
      "text/plain": [
       "u'Overviews\\nMap\\nReports (4)\\nMail\\n    Ranking\\n(18.|458.006 P)\\n      Tribe\\nProfile\\n 1192\\nSettings\\n\\nHeadquarters Recruit Academy Smithy Rally point Market Fake FART Fake script timeit FakesRhythym\\n02 I (551|520) K55\\nOffer! 21:52:19\\n40581 38563 41629 142373 3668/24000\\n1\\n\\n\\nAcademy (not constructed)\\nIn the academy you can educate noblemen. Noblemen allow you to conquer other villages by reducing their loyalty.\\nRequirements:\\nHeadquarters (Level 20)\\nSmithy (Level 20)\\nMarket (Level 10)\\nServer time: 16:34:01 25/07/2018\\n     '"
      ]
     },
     "execution_count": 16,
     "metadata": {},
     "output_type": "execute_result"
    }
   ],
   "source": [
    "a[0].text"
   ]
  },
  {
   "cell_type": "code",
   "execution_count": 10,
   "metadata": {},
   "outputs": [],
   "source": [
    "a=driver.find_elements_by_xpath(\".//table\")"
   ]
  },
  {
   "cell_type": "code",
   "execution_count": 11,
   "metadata": {},
   "outputs": [
    {
     "data": {
      "text/plain": [
       "34"
      ]
     },
     "execution_count": 11,
     "metadata": {},
     "output_type": "execute_result"
    }
   ],
   "source": [
    "len(a)"
   ]
  },
  {
   "cell_type": "code",
   "execution_count": 12,
   "metadata": {},
   "outputs": [
    {
     "data": {
      "text/plain": [
       "u'Gold coins\\nTotal: 1600\\nNoblemen\\nCurrent limit of noblemen: 56\\nStill missing for the limit of noblemen 57: 53 gold coins\\nAlready saved for the limit of noblemen 57: 4 gold coins\\nRequirements Mint gold coins\\n28.000\\n30.000\\n25.000\\n(2)'"
      ]
     },
     "execution_count": 12,
     "metadata": {},
     "output_type": "execute_result"
    }
   ],
   "source": [
    "driver.find_elements_by_xpath(\".//table\")[-1].text"
   ]
  },
  {
   "cell_type": "code",
   "execution_count": null,
   "metadata": {},
   "outputs": [],
   "source": []
  }
 ],
 "metadata": {
  "kernelspec": {
   "display_name": "Python 2",
   "language": "python",
   "name": "python2"
  },
  "language_info": {
   "codemirror_mode": {
    "name": "ipython",
    "version": 2
   },
   "file_extension": ".py",
   "mimetype": "text/x-python",
   "name": "python",
   "nbconvert_exporter": "python",
   "pygments_lexer": "ipython2",
   "version": "2.7.12"
  }
 },
 "nbformat": 4,
 "nbformat_minor": 2
}
