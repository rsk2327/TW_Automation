{
 "cells": [
  {
   "cell_type": "code",
   "execution_count": 1,
   "metadata": {},
   "outputs": [],
   "source": [
    "from selenium import webdriver\n",
    "from selenium.webdriver.chrome import service\n",
    "import time\n",
    "from selenium import webdriver\n",
    "import Queue as Q\n",
    "import pandas as pd\n",
    "import numpy as np\n",
    "import pyautogui\n",
    "import os\n",
    "import numpy as np\n",
    "\n",
    "from time import sleep\n",
    "\n",
    "username='rsk05'\n",
    "password='123qweasd'\n",
    "world=100\n",
    "driverLocation='/home/rsk/Downloads/chromedriver'\n",
    "\n"
   ]
  },
  {
   "cell_type": "code",
   "execution_count": 2,
   "metadata": {},
   "outputs": [],
   "source": [
    "#Game login\n",
    "\n",
    "ops = {\"browserName\":\"opera\",\"chromeOptions\":{\"args\":[],\"extensions\":[],\"binary\":\"/usr/bin/opera\"}}\n",
    "\n",
    "driver = webdriver.Chrome('/home/rsk/Downloads/operadriver',desired_capabilities=ops)\n",
    "\n",
    "\n",
    "driver.get('https://en100.tribalwars.net/game.php?')\n",
    "\n",
    "uname = driver.find_element_by_name('username')\n",
    "uname.send_keys(username)\n",
    "\n",
    "\n",
    "pword = driver.find_element_by_name('password')\n",
    "pword.send_keys(password)\n",
    "\n",
    "login= driver.find_element_by_class_name('btn-login')\n",
    "login.click()\n",
    "\n",
    "time.sleep(1)\n",
    "driver.get('https://www.tribalwars.net/en-dk/page/play/en100')"
   ]
  },
  {
   "cell_type": "code",
   "execution_count": 3,
   "metadata": {},
   "outputs": [],
   "source": [
    "def enterUnits(units):\n",
    "    \n",
    "    for unitType in units:\n",
    "    \n",
    "        availUnits = int(driver.find_element_by_id('units_entry_all_'+unitType).text[1:-1])\n",
    "        \n",
    "        #check if required units are available\n",
    "        if availUnits < units[unitType]:\n",
    "            print(\"Insufficient troops. Attack to ({}|{}) not sent\".format(coords[0],coords[1]))\n",
    "            return(0)    \n",
    "        \n",
    "        unitInput = driver.find_element_by_name(unitType)\n",
    "        unitInput.send_keys(units[unitType])\n",
    "    "
   ]
  },
  {
   "cell_type": "markdown",
   "metadata": {},
   "source": [
    "### Sniping"
   ]
  },
  {
   "cell_type": "code",
   "execution_count": 166,
   "metadata": {},
   "outputs": [],
   "source": [
    "numSupport = 12\n",
    "supportUnit= [{'ram':1}]\n",
    "# supportUnit= [{'heavy':1,'spear':0},\n",
    "#               {'heavy':1,'spear':0},\n",
    "#               {'heavy':1,'spear':0},\n",
    "#               {'heavy':1,'spear':0},\n",
    "#               {'heavy':50,'spear':0},\n",
    "#               {'heavy':80,'spear':0},\n",
    "#               {'heavy':1,'spear':0}]\n",
    "\n",
    "supportVillage = '551|515'\n",
    "command = 'attack'\n"
   ]
  },
  {
   "cell_type": "code",
   "execution_count": 167,
   "metadata": {},
   "outputs": [],
   "source": [
    "driver.switch_to_window(driver.window_handles[0])\n",
    "driver.get('https://en100.tribalwars.net/game.php?screen=place&mode=command')\n",
    "\n",
    "for i in range(numSupport):\n",
    "    \n",
    "    driver.get('https://en100.tribalwars.net/game.php?screen=place&mode=command')\n",
    "    \n",
    "    if len(supportUnit)==1:\n",
    "        enterUnits(supportUnit[0])\n",
    "    else:\n",
    "        enterUnits(supportUnit[i]) \n",
    "    \n",
    "    coordsInput = driver.find_element_by_name('input').send_keys(supportVillage)\n",
    "    driver.find_element_by_name(command).click()\n",
    "    \n",
    "    if i!=(numSupport-1):\n",
    "        driver.execute_script(\"window.open('');\")\n",
    "        driver.switch_to_window(driver.window_handles[-1])\n",
    "        \n",
    "\n",
    "\n"
   ]
  },
  {
   "cell_type": "code",
   "execution_count": 41,
   "metadata": {},
   "outputs": [],
   "source": [
    "supportTime = '23:26:05'   # Support lands one second later\n",
    "# supportTime = '22:30:05'   # Support lands one second later"
   ]
  },
  {
   "cell_type": "code",
   "execution_count": 42,
   "metadata": {},
   "outputs": [],
   "source": [
    "pyautogui.moveTo(179,39)\n",
    "pyautogui.click()\n",
    "\n",
    "while(True):\n",
    "        \n",
    "    currentTime = driver.find_element_by_id('date_arrival').text[-8:]\n",
    "    \n",
    "    \n",
    "    if currentTime ==supportTime:\n",
    "        time.sleep(0.3)\n",
    "        for i in range(numSupport):\n",
    "            pyautogui.typewrite(['enter'])\n",
    "            pyautogui.typewrite(['pgdn'])\n",
    "#             pyautogui.hotkey('ctrl', 'pgdn')\n",
    "        \n",
    "        \n",
    "        break\n",
    "    else:\n",
    "        time.sleep(0.1)\n",
    "        \n",
    "\n",
    "for i in range(1,numSupport):\n",
    "    driver.switch_to_window(driver.window_handles[1])\n",
    "    driver.close()\n",
    "driver.switch_to_window(driver.window_handles[0])\n",
    "driver.get('https://en100.tribalwars.net/game.php?screen=place&mode=command')\n",
    "driver.refresh()"
   ]
  },
  {
   "cell_type": "code",
   "execution_count": 22,
   "metadata": {},
   "outputs": [],
   "source": [
    "driver.switch_to_window(driver.window_handles[0])\n",
    "driver.get('https://en100.tribalwars.net/game.php?screen=place&mode=command')"
   ]
  },
  {
   "cell_type": "code",
   "execution_count": 62,
   "metadata": {},
   "outputs": [
    {
     "name": "stdout",
     "output_type": "stream",
     "text": [
      "Help on method execute_script in module selenium.webdriver.remote.webdriver:\n",
      "\n",
      "execute_script(self, script, *args) method of selenium.webdriver.chrome.webdriver.WebDriver instance\n",
      "    Synchronously Executes JavaScript in the current window/frame.\n",
      "    \n",
      "    :Args:\n",
      "     - script: The JavaScript to execute.\n",
      "     - \\*args: Any applicable arguments for your JavaScript.\n",
      "    \n",
      "    :Usage:\n",
      "        driver.execute_script('return document.title;')\n",
      "\n"
     ]
    }
   ],
   "source": [
    "help(driver.execute_script())"
   ]
  },
  {
   "cell_type": "code",
   "execution_count": null,
   "metadata": {},
   "outputs": [],
   "source": []
  },
  {
   "cell_type": "code",
   "execution_count": null,
   "metadata": {},
   "outputs": [],
   "source": []
  },
  {
   "cell_type": "code",
   "execution_count": 9,
   "metadata": {},
   "outputs": [],
   "source": []
  },
  {
   "cell_type": "markdown",
   "metadata": {},
   "source": [
    "### Mass Fake Script"
   ]
  },
  {
   "cell_type": "code",
   "execution_count": 173,
   "metadata": {},
   "outputs": [],
   "source": [
    "targetList = ['541|513']\n",
    "\n",
    "\n",
    "\n",
    "villageList = ['542|512','538|511','538|510']\n",
    "totalFakes = 5\n",
    "from numpy.random import choice\n",
    "\n"
   ]
  },
  {
   "cell_type": "code",
   "execution_count": 155,
   "metadata": {},
   "outputs": [],
   "source": [
    "driver.get('https://en100.tribalwars.net/game.php?screen=place&mode=command')"
   ]
  },
  {
   "cell_type": "code",
   "execution_count": 156,
   "metadata": {},
   "outputs": [],
   "source": [
    "groupList = driver.find_element_by_id(\"open_groups\")\n",
    "groupList.click()"
   ]
  },
  {
   "cell_type": "code",
   "execution_count": 92,
   "metadata": {},
   "outputs": [],
   "source": []
  },
  {
   "cell_type": "code",
   "execution_count": 164,
   "metadata": {},
   "outputs": [],
   "source": [
    "def changeVillage(village):\n",
    "    \n",
    "    d = driver.find_element_by_id('group_popup_content_container')\n",
    "    \n",
    "    for row in d.find_elements_by_xpath(\".//tr\"):   \n",
    "        if village in row.text:\n",
    "            for col in row.find_elements_by_xpath(\".//td\"):\n",
    "                link = col.find_element_by_xpath(\".//a\")\n",
    "                break\n",
    "                \n",
    "    link.click()\n",
    "\n",
    "def sendAttack(target):\n",
    "    \n",
    "    driver.find_element_by_id(\"unit_input_ram\").send_keys('1')\n",
    "    driver.find_element_by_name('input').send_keys(target)\n",
    "    \n",
    "    driver.find_element_by_id(\"target_attack\").click()\n",
    "    \n",
    "    driver.find_element_by_id(\"troop_confirm_go\").click()\n",
    "    \n",
    "    \n",
    "    "
   ]
  },
  {
   "cell_type": "code",
   "execution_count": 176,
   "metadata": {},
   "outputs": [],
   "source": [
    "fakesSent = 0\n",
    "\n",
    "while fakesSent < totalFakes:\n",
    "    \n",
    "    attackVillage = choice(villageList)\n",
    "    target = choice(targetList)\n",
    "\n",
    "    changeVillage(attackVillage)\n",
    "\n",
    "\n",
    "    if int(driver.find_element_by_id(\"units_entry_all_ram\").text[1:-1]) != 0 :  \n",
    "        sendAttack(target)\n",
    "        fakesSent += 1 \n",
    "    else:\n",
    "        villageList.remove(attackVillage)\n",
    "        print(\"{} removed\".format(attackVillage))\n",
    "        \n",
    "    waitTime = np.random.randint(1,2)\n",
    "    sleep(waitTime)"
   ]
  },
  {
   "cell_type": "code",
   "execution_count": null,
   "metadata": {},
   "outputs": [],
   "source": [
    "# to close the village groups list\n",
    "groupList = driver.find_element_by_id(\"close_groups\")\n",
    "groupList.click()"
   ]
  },
  {
   "cell_type": "code",
   "execution_count": null,
   "metadata": {},
   "outputs": [],
   "source": []
  },
  {
   "cell_type": "code",
   "execution_count": null,
   "metadata": {},
   "outputs": [],
   "source": []
  },
  {
   "cell_type": "markdown",
   "metadata": {},
   "source": [
    "### Mass Recruiting Script"
   ]
  },
  {
   "cell_type": "code",
   "execution_count": 9,
   "metadata": {},
   "outputs": [],
   "source": [
    "driver.get('https://en100.tribalwars.net/game.php?screen=train')"
   ]
  },
  {
   "cell_type": "code",
   "execution_count": 4,
   "metadata": {},
   "outputs": [],
   "source": [
    "def getUnits(t):\n",
    "    units ={}\n",
    "    for i in range(0,len(t)-7,7):\n",
    "        unit = t[i]\n",
    "        count = int(t[i+6].split(\" \")[0].split(\"/\")[1])\n",
    "        units[unit]=count\n",
    "    return(units)"
   ]
  },
  {
   "cell_type": "code",
   "execution_count": 36,
   "metadata": {},
   "outputs": [],
   "source": [
    "driver.get('https://en100.tribalwars.net/game.php?screen=overview_villages')"
   ]
  },
  {
   "cell_type": "code",
   "execution_count": 37,
   "metadata": {},
   "outputs": [],
   "source": [
    "table = driver.find_element_by_id('production_table')\n",
    "a = table.find_elements_by_xpath(\".//tr\")\n",
    "b = a[1].find_elements_by_xpath(\".//td\")\n",
    "b[1].find_elements_by_xpath(\".//span\")[0].click()"
   ]
  },
  {
   "cell_type": "code",
   "execution_count": 38,
   "metadata": {},
   "outputs": [],
   "source": [
    "driver.get('https://en100.tribalwars.net/game.php?screen=train')"
   ]
  },
  {
   "cell_type": "code",
   "execution_count": 11,
   "metadata": {},
   "outputs": [],
   "source": [
    "unitCosts = {'Axeman': [60,30,40],\n",
    "             'Spear fighter':[50,30,10],\n",
    "            'Heavy cavalry':[200,150,600],\n",
    "            'Light cavalry':[125,100,250]}\n",
    "\n",
    "axeRatio = 3\n",
    "spearRatio = 5\n",
    "\n",
    "spendRatio = 0.4"
   ]
  },
  {
   "cell_type": "code",
   "execution_count": 12,
   "metadata": {},
   "outputs": [],
   "source": [
    "\n",
    "for i in range(29):\n",
    "    form =driver.find_element_by_id('train_form')\n",
    "    t = form.text.split(\"\\n\")\n",
    "    t=t[1:]\n",
    "    units = getUnits(t)\n",
    "\n",
    "\n",
    "    villageType='off'\n",
    "\n",
    "    if 'Axeman' not in units.keys():\n",
    "        villageType='def'\n",
    "    else:\n",
    "        if units['Axeman']>=100:\n",
    "            villageType='off'\n",
    "        else:\n",
    "            villageType='def'\n",
    "\n",
    "\n",
    "\n",
    "    res = int(driver.find_element_by_id('wood').text),int(driver.find_element_by_id('stone').text),int(driver.find_element_by_id('iron').text)\n",
    "    availRes = [int(res[0]*spendRatio),int(res[1]*spendRatio),int(res[2]*spendRatio)]\n",
    "\n",
    "\n",
    "\n",
    "    if villageType=='off':\n",
    "        clusterCost = [ unitCosts['Axeman'][0]*axeRatio + unitCosts['Light cavalry'][0],\n",
    "                      unitCosts['Axeman'][1]*axeRatio + unitCosts['Light cavalry'][1],\n",
    "                      unitCosts['Axeman'][2]*axeRatio + unitCosts['Light cavalry'][2]]\n",
    "\n",
    "        recruitCount = min( availRes[0]/clusterCost[0] , availRes[1]/clusterCost[1] , availRes[2]/clusterCost[2] )\n",
    "\n",
    "        driver.find_element_by_id('axe_0').send_keys(int(recruitCount)*axeRatio)\n",
    "        driver.find_element_by_id('light_0').send_keys(int(recruitCount))\n",
    "\n",
    "\n",
    "\n",
    "\n",
    "    else:\n",
    "\n",
    "        clusterCost = [ unitCosts['Spear fighter'][0]*spearRatio + unitCosts['Heavy cavalry'][0],\n",
    "                      unitCosts['Spear fighter'][1]*spearRatio + unitCosts['Heavy cavalry'][1],\n",
    "                      unitCosts['Spear fighter'][2]*spearRatio + unitCosts['Heavy cavalry'][2]]\n",
    "\n",
    "\n",
    "\n",
    "        recruitCount = min( availRes[0]/clusterCost[0] , availRes[1]/clusterCost[1] , availRes[2]/clusterCost[2] )\n",
    "\n",
    "        driver.find_element_by_id('spear_0').send_keys(int(recruitCount)*spearRatio)\n",
    "        try:\n",
    "            driver.find_element_by_id('heavy_0').send_keys(int(recruitCount))\n",
    "        except:\n",
    "            n=1\n",
    "            \n",
    "        \n",
    "\n",
    "\n",
    "    form =driver.find_element_by_id('train_form')\n",
    "    rows = form.find_elements_by_xpath('.//tr')\n",
    "    cols = rows[-1].find_elements_by_xpath(\".//td\")\n",
    "    cols[1].submit()\n",
    "\n",
    "    pyautogui.moveTo(272,986)\n",
    "    pyautogui.click()\n",
    "    pyautogui.typewrite(['d'])"
   ]
  },
  {
   "cell_type": "code",
   "execution_count": 124,
   "metadata": {},
   "outputs": [],
   "source": [
    "pyautogui.typewrite(['enter'])"
   ]
  },
  {
   "cell_type": "code",
   "execution_count": null,
   "metadata": {},
   "outputs": [],
   "source": []
  },
  {
   "cell_type": "code",
   "execution_count": null,
   "metadata": {},
   "outputs": [],
   "source": []
  },
  {
   "cell_type": "code",
   "execution_count": null,
   "metadata": {},
   "outputs": [],
   "source": []
  },
  {
   "cell_type": "markdown",
   "metadata": {},
   "source": [
    "### Coin recruiting script"
   ]
  },
  {
   "cell_type": "code",
   "execution_count": 3,
   "metadata": {},
   "outputs": [],
   "source": [
    "driver.get('https://en100.tribalwars.net/game.php?screen=overview_villages')"
   ]
  },
  {
   "cell_type": "code",
   "execution_count": 4,
   "metadata": {},
   "outputs": [],
   "source": [
    "table = driver.find_element_by_id('production_table')\n",
    "numVillages = int(table.text.split(\"\\n\")[0].split(\" \")[1][1:-1])\n",
    "a = table.find_elements_by_xpath(\".//tr\")\n",
    "b = a[1].find_elements_by_xpath(\".//td\")\n",
    "b[1].find_elements_by_xpath(\".//span\")[0].click()"
   ]
  },
  {
   "cell_type": "code",
   "execution_count": 5,
   "metadata": {},
   "outputs": [],
   "source": [
    "driver.get('https://en100.tribalwars.net/game.php?screen=snob')"
   ]
  },
  {
   "cell_type": "code",
   "execution_count": 6,
   "metadata": {},
   "outputs": [
    {
     "name": "stdout",
     "output_type": "stream",
     "text": [
      "11 coins minted. Total Coins : 0\n",
      "7 coins minted. Total Coins : 11\n",
      "8 coins minted. Total Coins : 18\n",
      "6 coins minted. Total Coins : 26\n",
      "2 coins minted. Total Coins : 32\n",
      "1 coins minted. Total Coins : 34\n",
      "5 coins minted. Total Coins : 35\n",
      "10 coins minted. Total Coins : 40\n",
      "12 coins minted. Total Coins : 50\n",
      "5 coins minted. Total Coins : 62\n",
      "8 coins minted. Total Coins : 67\n",
      "9 coins minted. Total Coins : 75\n",
      "9 coins minted. Total Coins : 84\n",
      "8 coins minted. Total Coins : 93\n",
      "10 coins minted. Total Coins : 101\n",
      "13 coins minted. Total Coins : 111\n",
      "7 coins minted. Total Coins : 124\n",
      "7 coins minted. Total Coins : 131\n",
      "5 coins minted. Total Coins : 138\n",
      "6 coins minted. Total Coins : 143\n",
      "5 coins minted. Total Coins : 149\n",
      "3 coins minted. Total Coins : 154\n",
      "2 coins minted. Total Coins : 157\n",
      "11 coins minted. Total Coins : 159\n",
      "7 coins minted. Total Coins : 170\n",
      "4 coins minted. Total Coins : 177\n",
      "9 coins minted. Total Coins : 181\n",
      "7 coins minted. Total Coins : 190\n",
      "10 coins minted. Total Coins : 197\n",
      "8 coins minted. Total Coins : 207\n",
      "9 coins minted. Total Coins : 215\n",
      "9 coins minted. Total Coins : 224\n",
      "Total coins minted : 233\n"
     ]
    }
   ],
   "source": [
    "totalCoins = 0\n",
    "\n",
    "for i in range(numVillages):\n",
    "    \n",
    "    c = driver.find_elements_by_xpath(\".//table\")[0].text\n",
    "    \n",
    "    if \"Academy (not constructed)\" in c:\n",
    "        pyautogui.moveTo(272,986)\n",
    "        pyautogui.click()\n",
    "        pyautogui.typewrite(['d'])\n",
    "        continue\n",
    "    \n",
    "    a=driver.find_elements_by_xpath(\".//table\")[-1]\n",
    "    \n",
    "    if \"Resources available\" in a.text:\n",
    "        pyautogui.moveTo(272,986)\n",
    "        pyautogui.click()\n",
    "        pyautogui.typewrite(['d'])\n",
    "    else:\n",
    "        maxCoins = int(a.text.split(\"\\n\")[-1][1:-1])\n",
    "        b = a.find_element_by_id('coin_mint_count')\n",
    "        b.clear()\n",
    "        mintCoins=3\n",
    "        if maxCoins<=4:\n",
    "            mintCoins=2\n",
    "        elif maxCoins <=8:\n",
    "            mintCoins = 5\n",
    "        else:\n",
    "            mintCoins = min(maxCoins,7)\n",
    "            \n",
    "        b.send_keys(str(mintCoins))\n",
    "        a.find_elements_by_xpath(\".//input\")[1].click()\n",
    "        print(\"{} coins minted. Total Coins : {}\".format(maxCoins,totalCoins))\n",
    "        \n",
    "        totalCoins += maxCoins\n",
    "        \n",
    "        \n",
    "        pyautogui.moveTo(272,986)\n",
    "        pyautogui.click()\n",
    "        pyautogui.typewrite(['d'])\n",
    "        \n",
    "print(\"Total coins minted : {}\".format(totalCoins))    \n",
    "    "
   ]
  },
  {
   "cell_type": "code",
   "execution_count": 14,
   "metadata": {},
   "outputs": [],
   "source": [
    "a=driver.find_elements_by_xpath(\".//table\")"
   ]
  },
  {
   "cell_type": "code",
   "execution_count": 16,
   "metadata": {},
   "outputs": [
    {
     "data": {
      "text/plain": [
       "u'Overviews\\nMap\\nReports (4)\\nMail\\n    Ranking\\n(18.|458.006 P)\\n      Tribe\\nProfile\\n 1192\\nSettings\\n\\nHeadquarters Recruit Academy Smithy Rally point Market Fake FART Fake script timeit FakesRhythym\\n02 I (551|520) K55\\nOffer! 21:52:19\\n40581 38563 41629 142373 3668/24000\\n1\\n\\n\\nAcademy (not constructed)\\nIn the academy you can educate noblemen. Noblemen allow you to conquer other villages by reducing their loyalty.\\nRequirements:\\nHeadquarters (Level 20)\\nSmithy (Level 20)\\nMarket (Level 10)\\nServer time: 16:34:01 25/07/2018\\n     '"
      ]
     },
     "execution_count": 16,
     "metadata": {},
     "output_type": "execute_result"
    }
   ],
   "source": [
    "a[0].text"
   ]
  },
  {
   "cell_type": "code",
   "execution_count": 10,
   "metadata": {},
   "outputs": [],
   "source": [
    "a=driver.find_elements_by_xpath(\".//table\")"
   ]
  },
  {
   "cell_type": "code",
   "execution_count": 11,
   "metadata": {},
   "outputs": [
    {
     "data": {
      "text/plain": [
       "34"
      ]
     },
     "execution_count": 11,
     "metadata": {},
     "output_type": "execute_result"
    }
   ],
   "source": [
    "len(a)"
   ]
  },
  {
   "cell_type": "code",
   "execution_count": 12,
   "metadata": {},
   "outputs": [
    {
     "data": {
      "text/plain": [
       "u'Gold coins\\nTotal: 1600\\nNoblemen\\nCurrent limit of noblemen: 56\\nStill missing for the limit of noblemen 57: 53 gold coins\\nAlready saved for the limit of noblemen 57: 4 gold coins\\nRequirements Mint gold coins\\n28.000\\n30.000\\n25.000\\n(2)'"
      ]
     },
     "execution_count": 12,
     "metadata": {},
     "output_type": "execute_result"
    }
   ],
   "source": [
    "driver.find_elements_by_xpath(\".//table\")[-1].text"
   ]
  },
  {
   "cell_type": "code",
   "execution_count": null,
   "metadata": {},
   "outputs": [],
   "source": []
  }
 ],
 "metadata": {
  "kernelspec": {
   "display_name": "Python 2",
   "language": "python",
   "name": "python2"
  },
  "language_info": {
   "codemirror_mode": {
    "name": "ipython",
    "version": 2
   },
   "file_extension": ".py",
   "mimetype": "text/x-python",
   "name": "python",
   "nbconvert_exporter": "python",
   "pygments_lexer": "ipython2",
   "version": "2.7.12"
  }
 },
 "nbformat": 4,
 "nbformat_minor": 2
}
